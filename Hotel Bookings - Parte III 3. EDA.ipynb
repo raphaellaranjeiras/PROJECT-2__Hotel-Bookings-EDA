{
 "cells": [
  {
   "cell_type": "code",
   "execution_count": 1,
   "id": "5c988676",
   "metadata": {},
   "outputs": [],
   "source": [
    "import warnings\n",
    "warnings.filterwarnings('ignore')\n",
    "import pandas as pd\n",
    "import numpy as np\n",
    "import matplotlib.pyplot as plt \n",
    "%matplotlib inline\n",
    "import seaborn as sns"
   ]
  },
  {
   "cell_type": "code",
   "execution_count": 2,
   "id": "adb1aad2",
   "metadata": {},
   "outputs": [],
   "source": [
    "df = pd.read_csv('hotel_bookings.csv')\n",
    "pd.set_option('display.max_columns', None)"
   ]
  },
  {
   "cell_type": "markdown",
   "id": "ee0ff8e7",
   "metadata": {},
   "source": [
    "### Análise ADR (Average Daily Rate)"
   ]
  },
  {
   "cell_type": "markdown",
   "id": "44ecbe31",
   "metadata": {},
   "source": [
    "> A análise será feita sobre os clientes que de fato chegaram nos hotéis."
   ]
  },
  {
   "cell_type": "code",
   "execution_count": 3,
   "id": "59f06b9b",
   "metadata": {},
   "outputs": [],
   "source": [
    "df_not_canceled = df.loc[df['is_canceled'] == 0, :]"
   ]
  },
  {
   "cell_type": "markdown",
   "id": "b3efddc5",
   "metadata": {},
   "source": [
    "- Com relação ao número de crianças:"
   ]
  },
  {
   "cell_type": "code",
   "execution_count": 4,
   "id": "b0c8efd0",
   "metadata": {
    "scrolled": true
   },
   "outputs": [
    {
     "data": {
      "text/html": [
       "<div>\n",
       "<style scoped>\n",
       "    .dataframe tbody tr th:only-of-type {\n",
       "        vertical-align: middle;\n",
       "    }\n",
       "\n",
       "    .dataframe tbody tr th {\n",
       "        vertical-align: top;\n",
       "    }\n",
       "\n",
       "    .dataframe thead th {\n",
       "        text-align: right;\n",
       "    }\n",
       "</style>\n",
       "<table border=\"1\" class=\"dataframe\">\n",
       "  <thead>\n",
       "    <tr style=\"text-align: right;\">\n",
       "      <th></th>\n",
       "      <th>country</th>\n",
       "      <th>adr</th>\n",
       "    </tr>\n",
       "  </thead>\n",
       "  <tbody>\n",
       "    <tr>\n",
       "      <th>111403</th>\n",
       "      <td>ITA</td>\n",
       "      <td>510.00</td>\n",
       "    </tr>\n",
       "    <tr>\n",
       "      <th>15083</th>\n",
       "      <td>PRT</td>\n",
       "      <td>508.00</td>\n",
       "    </tr>\n",
       "    <tr>\n",
       "      <th>103912</th>\n",
       "      <td>PRT</td>\n",
       "      <td>451.50</td>\n",
       "    </tr>\n",
       "    <tr>\n",
       "      <th>39155</th>\n",
       "      <td>PRT</td>\n",
       "      <td>426.25</td>\n",
       "    </tr>\n",
       "    <tr>\n",
       "      <th>39568</th>\n",
       "      <td>ESP</td>\n",
       "      <td>402.00</td>\n",
       "    </tr>\n",
       "    <tr>\n",
       "      <th>39118</th>\n",
       "      <td>MAR</td>\n",
       "      <td>397.38</td>\n",
       "    </tr>\n",
       "    <tr>\n",
       "      <th>39517</th>\n",
       "      <td>PRT</td>\n",
       "      <td>392.00</td>\n",
       "    </tr>\n",
       "    <tr>\n",
       "      <th>39543</th>\n",
       "      <td>ESP</td>\n",
       "      <td>388.00</td>\n",
       "    </tr>\n",
       "    <tr>\n",
       "      <th>39177</th>\n",
       "      <td>ESP</td>\n",
       "      <td>387.00</td>\n",
       "    </tr>\n",
       "    <tr>\n",
       "      <th>39960</th>\n",
       "      <td>PRT</td>\n",
       "      <td>383.00</td>\n",
       "    </tr>\n",
       "  </tbody>\n",
       "</table>\n",
       "</div>"
      ],
      "text/plain": [
       "       country     adr\n",
       "111403     ITA  510.00\n",
       "15083      PRT  508.00\n",
       "103912     PRT  451.50\n",
       "39155      PRT  426.25\n",
       "39568      ESP  402.00\n",
       "39118      MAR  397.38\n",
       "39517      PRT  392.00\n",
       "39543      ESP  388.00\n",
       "39177      ESP  387.00\n",
       "39960      PRT  383.00"
      ]
     },
     "execution_count": 4,
     "metadata": {},
     "output_type": "execute_result"
    }
   ],
   "source": [
    "df_not_canceled[['country', 'adr']].sort_values('adr', ascending= False)[0:10]"
   ]
  },
  {
   "cell_type": "code",
   "execution_count": 5,
   "id": "82a52147",
   "metadata": {},
   "outputs": [
    {
     "data": {
      "text/html": [
       "<div>\n",
       "<style scoped>\n",
       "    .dataframe tbody tr th:only-of-type {\n",
       "        vertical-align: middle;\n",
       "    }\n",
       "\n",
       "    .dataframe tbody tr th {\n",
       "        vertical-align: top;\n",
       "    }\n",
       "\n",
       "    .dataframe thead th {\n",
       "        text-align: right;\n",
       "    }\n",
       "</style>\n",
       "<table border=\"1\" class=\"dataframe\">\n",
       "  <thead>\n",
       "    <tr style=\"text-align: right;\">\n",
       "      <th></th>\n",
       "      <th>country</th>\n",
       "      <th>sum</th>\n",
       "      <th>mean</th>\n",
       "      <th>median</th>\n",
       "    </tr>\n",
       "  </thead>\n",
       "  <tbody>\n",
       "    <tr>\n",
       "      <th>0</th>\n",
       "      <td>ABW</td>\n",
       "      <td>256.68</td>\n",
       "      <td>128.340000</td>\n",
       "      <td>128.34</td>\n",
       "    </tr>\n",
       "    <tr>\n",
       "      <th>1</th>\n",
       "      <td>AGO</td>\n",
       "      <td>17592.89</td>\n",
       "      <td>112.056624</td>\n",
       "      <td>105.00</td>\n",
       "    </tr>\n",
       "    <tr>\n",
       "      <th>2</th>\n",
       "      <td>AIA</td>\n",
       "      <td>265.00</td>\n",
       "      <td>265.000000</td>\n",
       "      <td>265.00</td>\n",
       "    </tr>\n",
       "    <tr>\n",
       "      <th>3</th>\n",
       "      <td>ALB</td>\n",
       "      <td>790.24</td>\n",
       "      <td>79.024000</td>\n",
       "      <td>77.10</td>\n",
       "    </tr>\n",
       "    <tr>\n",
       "      <th>4</th>\n",
       "      <td>AND</td>\n",
       "      <td>590.00</td>\n",
       "      <td>295.000000</td>\n",
       "      <td>295.00</td>\n",
       "    </tr>\n",
       "  </tbody>\n",
       "</table>\n",
       "</div>"
      ],
      "text/plain": [
       "  country       sum        mean  median\n",
       "0     ABW    256.68  128.340000  128.34\n",
       "1     AGO  17592.89  112.056624  105.00\n",
       "2     AIA    265.00  265.000000  265.00\n",
       "3     ALB    790.24   79.024000   77.10\n",
       "4     AND    590.00  295.000000  295.00"
      ]
     },
     "execution_count": 5,
     "metadata": {},
     "output_type": "execute_result"
    }
   ],
   "source": [
    "group_country = pd.DataFrame(df_not_canceled.groupby('country')['adr'].agg([np.sum, np.mean, np.median])).reset_index()\n",
    "group_country.head()"
   ]
  },
  {
   "cell_type": "code",
   "execution_count": 6,
   "id": "f0c246fb",
   "metadata": {},
   "outputs": [
    {
     "data": {
      "text/html": [
       "<div>\n",
       "<style scoped>\n",
       "    .dataframe tbody tr th:only-of-type {\n",
       "        vertical-align: middle;\n",
       "    }\n",
       "\n",
       "    .dataframe tbody tr th {\n",
       "        vertical-align: top;\n",
       "    }\n",
       "\n",
       "    .dataframe thead th {\n",
       "        text-align: right;\n",
       "    }\n",
       "</style>\n",
       "<table border=\"1\" class=\"dataframe\">\n",
       "  <thead>\n",
       "    <tr style=\"text-align: right;\">\n",
       "      <th></th>\n",
       "      <th>mean</th>\n",
       "      <th>country</th>\n",
       "    </tr>\n",
       "  </thead>\n",
       "  <tbody>\n",
       "    <tr>\n",
       "      <th>0</th>\n",
       "      <td>90.342738</td>\n",
       "      <td>PRT</td>\n",
       "    </tr>\n",
       "    <tr>\n",
       "      <th>1</th>\n",
       "      <td>105.750599</td>\n",
       "      <td>FRA</td>\n",
       "    </tr>\n",
       "    <tr>\n",
       "      <th>2</th>\n",
       "      <td>90.467804</td>\n",
       "      <td>GBR</td>\n",
       "    </tr>\n",
       "    <tr>\n",
       "      <th>3</th>\n",
       "      <td>110.304402</td>\n",
       "      <td>ESP</td>\n",
       "    </tr>\n",
       "    <tr>\n",
       "      <th>4</th>\n",
       "      <td>101.259214</td>\n",
       "      <td>DEU</td>\n",
       "    </tr>\n",
       "    <tr>\n",
       "      <th>5</th>\n",
       "      <td>110.760123</td>\n",
       "      <td>ITA</td>\n",
       "    </tr>\n",
       "    <tr>\n",
       "      <th>6</th>\n",
       "      <td>94.690995</td>\n",
       "      <td>IRL</td>\n",
       "    </tr>\n",
       "    <tr>\n",
       "      <th>7</th>\n",
       "      <td>111.477709</td>\n",
       "      <td>BEL</td>\n",
       "    </tr>\n",
       "    <tr>\n",
       "      <th>8</th>\n",
       "      <td>118.976667</td>\n",
       "      <td>USA</td>\n",
       "    </tr>\n",
       "    <tr>\n",
       "      <th>9</th>\n",
       "      <td>105.010518</td>\n",
       "      <td>NLD</td>\n",
       "    </tr>\n",
       "  </tbody>\n",
       "</table>\n",
       "</div>"
      ],
      "text/plain": [
       "         mean country\n",
       "0   90.342738     PRT\n",
       "1  105.750599     FRA\n",
       "2   90.467804     GBR\n",
       "3  110.304402     ESP\n",
       "4  101.259214     DEU\n",
       "5  110.760123     ITA\n",
       "6   94.690995     IRL\n",
       "7  111.477709     BEL\n",
       "8  118.976667     USA\n",
       "9  105.010518     NLD"
      ]
     },
     "execution_count": 6,
     "metadata": {},
     "output_type": "execute_result"
    }
   ],
   "source": [
    "country = ['PRT', 'FRA', 'GBR', 'ESP', 'DEU', 'ITA', 'IRL', 'BEL', 'USA', 'NLD']\n",
    "means = []\n",
    "\n",
    "for i in country:\n",
    "    mean_temp = group_country.loc[group_country['country'] == i, 'mean'].to_list()[0]\n",
    "    round(mean_temp, 2)\n",
    "    means.append(mean_temp)\n",
    "    \n",
    "df_country_mean_adr = pd.DataFrame({'mean': means, 'country':country})\n",
    "df_country_mean_adr "
   ]
  },
  {
   "cell_type": "code",
   "execution_count": 7,
   "id": "36c29dd4",
   "metadata": {},
   "outputs": [
    {
     "data": {
      "image/png": "[encoded data removed]",
      "text/plain": [
       "<Figure size 800x600 with 2 Axes>"
      ]
     },
     "metadata": {},
     "output_type": "display_data"
    }
   ],
   "source": [
    "sns.set_theme(style= 'white', font= 'verdana', font_scale= 1, palette= 'Paired')\n",
    "plt.figure(figsize= (8,6))\n",
    "\n",
    "ax = sns.barplot(x= group_country.loc[:, ['country', 'sum']].sort_values('sum', ascending= False)[0:10]['country'],\n",
    "            y= group_country.loc[:, ['country', 'sum']].sort_values('sum', ascending= False)[0:10]['sum'])\n",
    "ax.set_title('Análise ADR', fontweight= 'bold', fontsize= 14)\n",
    "ax.set_ylabel('ADR Total')\n",
    "ax.set_xlabel('')\n",
    "ax.spines[['top', 'right', 'left', 'bottom']].set_visible(False)\n",
    "ax.set_xlabel('País', labelpad= 15, fontsize= 12)\n",
    "\n",
    "ax2 = ax.twinx()\n",
    "ax2 = sns.pointplot(x= df_country_mean_adr['country'], y= df_country_mean_adr['mean'], color= 'y', scale= 0.5)\n",
    "ax2.set_ylabel('ADR Médio', color= 'y')\n",
    "ax2.spines[['top', 'right', 'left', 'bottom']].set_visible(False)\n",
    "\n",
    "\n",
    "plt.tight_layout()"
   ]
  },
  {
   "cell_type": "markdown",
   "id": "9fc1a99d",
   "metadata": {},
   "source": [
    "- Como se é esperado, os países que mais deram renda aos hotéis foram aqueles que possuíram maior quantidade de hóspedes (vistos anteriormente). \n",
    "\n",
    "    Houve apenas pequenas alterações na ordem do primeiro gráfico com relação ao gráfico anterior de número de hóspedes: Apesar de mais hóspedes serem oriundos do Reino Unido do que da França, esses deram mais renda do que aqueles. O mesmo se observou entre: Irlanda/Itália e Estados Unidos/Holanda. Contudo, nesses dois casos a diferença de hospedagem era muito pequena, diferentemente do primeiro caso, onde a diferença era um pouco mais significativa. \n"
   ]
  },
  {
   "cell_type": "code",
   "execution_count": 8,
   "id": "76a30297",
   "metadata": {
    "scrolled": false
   },
   "outputs": [
    {
     "data": {
      "text/plain": [
       "is_repeated_guest\n",
       "0    37.79\n",
       "1    14.49\n",
       "Name: is_canceled, dtype: float64"
      ]
     },
     "execution_count": 8,
     "metadata": {},
     "output_type": "execute_result"
    }
   ],
   "source": [
    "df.groupby('is_repeated_guest')['is_canceled'].mean().mul(100).round(2)"
   ]
  },
  {
   "cell_type": "code",
   "execution_count": 9,
   "id": "f8f15f46",
   "metadata": {
    "scrolled": true
   },
   "outputs": [
    {
     "data": {
      "text/plain": [
       "is_repeated_guest\n",
       "0    101.670375\n",
       "1     62.848877\n",
       "Name: adr, dtype: float64"
      ]
     },
     "execution_count": 9,
     "metadata": {},
     "output_type": "execute_result"
    }
   ],
   "source": [
    "df_not_canceled.groupby('is_repeated_guest')['adr'].mean()"
   ]
  },
  {
   "cell_type": "code",
   "execution_count": 10,
   "id": "3f74a30e",
   "metadata": {},
   "outputs": [
    {
     "data": {
      "text/plain": [
       "<matplotlib.legend.Legend at 0x2064e3bf940>"
      ]
     },
     "execution_count": 10,
     "metadata": {},
     "output_type": "execute_result"
    },
    {
     "data": {
      "image/png": "[encoded data removed]",
      "text/plain": [
       "<Figure size 800x400 with 1 Axes>"
      ]
     },
     "metadata": {},
     "output_type": "display_data"
    }
   ],
   "source": [
    "sns.set_theme(style= 'white', font= 'verdana', font_scale= 1)\n",
    "\n",
    "plt.figure(figsize= (8,4))\n",
    "\n",
    "ax = sns.boxplot(x= df_not_canceled['is_repeated_guest'], y= df_not_canceled['adr'])\n",
    "ax.set_title('ADR por Repetição de Hóspede', fontweight= 'bold', pad= 14, fontsize= 14)\n",
    "ax.set_xticks([0,1])\n",
    "ax.set_xticklabels(['Não Reincidente', 'Reincidente'])\n",
    "ax.set_xlabel('')\n",
    "ax.set_ylabel('')\n",
    "ax.axhline(df_not_canceled.groupby('is_repeated_guest')['adr'].mean()[0], \n",
    "             color= 'red', linestyle= 'dashed', label= 'Média - Não Reincidente')\n",
    "ax.axhline(df_not_canceled.groupby('is_repeated_guest')['adr'].mean()[1],\n",
    "             color= 'green', linestyle= 'dashed', label= 'Média - Reincidente')\n",
    "plt.legend(loc= 'best')"
   ]
  },
  {
   "cell_type": "markdown",
   "id": "407e34da",
   "metadata": {},
   "source": [
    "- Olhando as médias percebe-se que se o hóspede não for repetido ele poderá ter maior tendência a gastar mais. \n",
    "- A distribuição dos hóspedes repetidos é assimétrica negativa, indicando de fato uma maior quantidade de gastos inferiores."
   ]
  },
  {
   "cell_type": "code",
   "execution_count": 11,
   "id": "a4cbfb04",
   "metadata": {
    "scrolled": true
   },
   "outputs": [
    {
     "data": {
      "text/plain": [
       "children\n",
       "0.0      37.09\n",
       "1.0      32.24\n",
       "2.0      42.20\n",
       "3.0      22.37\n",
       "10.0    100.00\n",
       "Name: is_canceled, dtype: float64"
      ]
     },
     "execution_count": 11,
     "metadata": {},
     "output_type": "execute_result"
    }
   ],
   "source": [
    "df.groupby('children')['is_canceled'].mean().mul(100).round(2)"
   ]
  },
  {
   "cell_type": "code",
   "execution_count": 12,
   "id": "7c3b14db",
   "metadata": {
    "scrolled": true
   },
   "outputs": [
    {
     "data": {
      "text/plain": [
       "adults\n",
       "0      27.05\n",
       "1      28.98\n",
       "2      39.32\n",
       "3      34.68\n",
       "4      25.81\n",
       "5     100.00\n",
       "6     100.00\n",
       "10    100.00\n",
       "20    100.00\n",
       "26    100.00\n",
       "27    100.00\n",
       "40    100.00\n",
       "50    100.00\n",
       "55    100.00\n",
       "Name: is_canceled, dtype: float64"
      ]
     },
     "execution_count": 12,
     "metadata": {},
     "output_type": "execute_result"
    }
   ],
   "source": [
    "df.groupby('adults')['is_canceled'].mean().mul(100).round(2)"
   ]
  },
  {
   "cell_type": "code",
   "execution_count": 14,
   "id": "56819c9c",
   "metadata": {},
   "outputs": [
    {
     "data": {
      "image/png": "[encoded data removed]",
      "text/plain": [
       "<Figure size 800x500 with 1 Axes>"
      ]
     },
     "metadata": {},
     "output_type": "display_data"
    }
   ],
   "source": [
    "#A quantidade de bebês foi desconsiderada na análise pois é muito pequena e demonstrou uma correlação bem menor se \n",
    "#comparado com adultos e crianças. \n",
    "\n",
    "sns.set_theme(style= 'white', font= 'verdana', font_scale= 0.9)\n",
    "plt.figure(figsize= (8,5))\n",
    "\n",
    "ax = sns.scatterplot(x= df_not_canceled['adults'], y= df_not_canceled['adr'], hue= df_not_canceled['children'],\n",
    "            size= df_not_canceled['children'])\n",
    "ax.set_title('ADR por Composição de Pessoas da Reserva', fontweight= 'bold', fontsize= 14)\n",
    "ax.set_xlabel('Adultos')\n",
    "ax.set_xticks(np.arange(0,5,1))\n",
    "ax.set_ylabel('')\n",
    "\n",
    "plt.legend(title= 'Crianças')\n",
    "\n",
    "plt.tight_layout()"
   ]
  },
  {
   "cell_type": "markdown",
   "id": "634bcb39",
   "metadata": {},
   "source": [
    "- Como se é esperado, quanto maior a quantidade de pessoas que compõem a reserva, maior a tendência de que o ADR seja maior."
   ]
  },
  {
   "cell_type": "markdown",
   "id": "0d59bf4a",
   "metadata": {},
   "source": [
    "### Análise do Processo de Reserva"
   ]
  },
  {
   "cell_type": "code",
   "execution_count": 22,
   "id": "018fa107",
   "metadata": {},
   "outputs": [],
   "source": [
    "df_canceled = df.loc[df['is_canceled'] == 1, :]"
   ]
  },
  {
   "cell_type": "code",
   "execution_count": 23,
   "id": "6673161a",
   "metadata": {
    "scrolled": true
   },
   "outputs": [
    {
     "data": {
      "text/plain": [
       "A    74053\n",
       "D    25322\n",
       "E     7806\n",
       "F     3751\n",
       "G     2553\n",
       "C     2375\n",
       "B     2163\n",
       "H      712\n",
       "I      363\n",
       "K      279\n",
       "P       12\n",
       "L        1\n",
       "Name: assigned_room_type, dtype: int64"
      ]
     },
     "execution_count": 23,
     "metadata": {},
     "output_type": "execute_result"
    }
   ],
   "source": [
    "df['assigned_room_type'].value_counts()"
   ]
  },
  {
   "cell_type": "code",
   "execution_count": 24,
   "id": "2743318a",
   "metadata": {},
   "outputs": [
    {
     "data": {
      "text/plain": [
       "A    85994\n",
       "D    19201\n",
       "E     6535\n",
       "F     2897\n",
       "G     2094\n",
       "B     1118\n",
       "C      932\n",
       "H      601\n",
       "P       12\n",
       "L        6\n",
       "Name: reserved_room_type, dtype: int64"
      ]
     },
     "execution_count": 24,
     "metadata": {},
     "output_type": "execute_result"
    }
   ],
   "source": [
    "df['reserved_room_type'].value_counts()"
   ]
  },
  {
   "cell_type": "code",
   "execution_count": 25,
   "id": "7037d3af",
   "metadata": {
    "scrolled": false
   },
   "outputs": [
    {
     "data": {
      "image/png": "[encoded data removed]",
      "text/plain": [
       "<Figure size 300x400 with 1 Axes>"
      ]
     },
     "metadata": {},
     "output_type": "display_data"
    }
   ],
   "source": [
    "df['matching_room_type'] = df['reserved_room_type'].where(df['reserved_room_type'] == df['assigned_room_type'], 'Different')\n",
    "df['matching_room_type'] = df['matching_room_type'].where(df['matching_room_type'] == 'Different', 'Same')\n",
    "\n",
    "plt.figure(figsize=(3,4))\n",
    "ax = plt.pie(df['matching_room_type'].value_counts(normalize= True).mul(100).round(2), \n",
    "               labels= df['matching_room_type'].value_counts(normalize= True).mul(100).round(2).index, \n",
    "               autopct='%.2f', pctdistance= 0.7)\n",
    "plt.title('Matching (%)', fontweight= 'bold', fontsize= 14)\n",
    "\n",
    "plt.tight_layout()"
   ]
  },
  {
   "cell_type": "code",
   "execution_count": 26,
   "id": "45e519ee",
   "metadata": {},
   "outputs": [
    {
     "name": "stdout",
     "output_type": "stream",
     "text": [
      "Taxa de Cancelamento: 5.38 - Different\n",
      "Taxa de Cancelamento: 41.56 - Same\n"
     ]
    }
   ],
   "source": [
    "print('Taxa de Cancelamento:', round(df[df['matching_room_type'] == 'Different']['is_canceled'].mean()*100, 2), '- Different')\n",
    "print('Taxa de Cancelamento:', round(df[df['matching_room_type'] == 'Same']['is_canceled'].mean()*100, 2),'- Same')"
   ]
  },
  {
   "cell_type": "code",
   "execution_count": 27,
   "id": "460e55e0",
   "metadata": {},
   "outputs": [
    {
     "data": {
      "text/html": [
       "<div>\n",
       "<style scoped>\n",
       "    .dataframe tbody tr th:only-of-type {\n",
       "        vertical-align: middle;\n",
       "    }\n",
       "\n",
       "    .dataframe tbody tr th {\n",
       "        vertical-align: top;\n",
       "    }\n",
       "\n",
       "    .dataframe thead th {\n",
       "        text-align: right;\n",
       "    }\n",
       "</style>\n",
       "<table border=\"1\" class=\"dataframe\">\n",
       "  <thead>\n",
       "    <tr style=\"text-align: right;\">\n",
       "      <th></th>\n",
       "      <th>index</th>\n",
       "      <th>reserved_room_type</th>\n",
       "    </tr>\n",
       "  </thead>\n",
       "  <tbody>\n",
       "    <tr>\n",
       "      <th>0</th>\n",
       "      <td>A</td>\n",
       "      <td>70.45</td>\n",
       "    </tr>\n",
       "    <tr>\n",
       "      <th>1</th>\n",
       "      <td>D</td>\n",
       "      <td>16.98</td>\n",
       "    </tr>\n",
       "    <tr>\n",
       "      <th>2</th>\n",
       "      <td>E</td>\n",
       "      <td>5.67</td>\n",
       "    </tr>\n",
       "    <tr>\n",
       "      <th>3</th>\n",
       "      <td>F</td>\n",
       "      <td>2.59</td>\n",
       "    </tr>\n",
       "    <tr>\n",
       "      <th>4</th>\n",
       "      <td>G</td>\n",
       "      <td>1.95</td>\n",
       "    </tr>\n",
       "    <tr>\n",
       "      <th>5</th>\n",
       "      <td>B</td>\n",
       "      <td>0.95</td>\n",
       "    </tr>\n",
       "    <tr>\n",
       "      <th>6</th>\n",
       "      <td>C</td>\n",
       "      <td>0.85</td>\n",
       "    </tr>\n",
       "    <tr>\n",
       "      <th>7</th>\n",
       "      <td>H</td>\n",
       "      <td>0.56</td>\n",
       "    </tr>\n",
       "    <tr>\n",
       "      <th>8</th>\n",
       "      <td>P</td>\n",
       "      <td>0.01</td>\n",
       "    </tr>\n",
       "    <tr>\n",
       "      <th>9</th>\n",
       "      <td>L</td>\n",
       "      <td>0.00</td>\n",
       "    </tr>\n",
       "  </tbody>\n",
       "</table>\n",
       "</div>"
      ],
      "text/plain": [
       "  index  reserved_room_type\n",
       "0     A               70.45\n",
       "1     D               16.98\n",
       "2     E                5.67\n",
       "3     F                2.59\n",
       "4     G                1.95\n",
       "5     B                0.95\n",
       "6     C                0.85\n",
       "7     H                0.56\n",
       "8     P                0.01\n",
       "9     L                0.00"
      ]
     },
     "execution_count": 27,
     "metadata": {},
     "output_type": "execute_result"
    }
   ],
   "source": [
    "df_room = df[df['matching_room_type'] == 'Same']['reserved_room_type'].value_counts(normalize= True).mul(100).round(2).reset_index()\n",
    "df_room"
   ]
  },
  {
   "cell_type": "markdown",
   "id": "ff1297aa",
   "metadata": {},
   "source": [
    "- Percebe-se que a grande maioria (**87,51%**) dos quartos que foram designados para a reserva, **de fato foram os quartos reservados**. Bom **indicativo de que não há overbooking muito elevado** ou algum erro no processamento das reservas.  \n",
    "\n",
    "- Em um primeiro momento é de se imaginar que a atribuição da reserva diferentemente do que foi escolhido anteriormente poderia ser um fator que implicasse diretamente na quantidade de cancelamentos. Contudo, de acordo com a taxa (5.38% entre os que não deram matching e 41.56% para o outro grupo) essa situação não parece ser um indicativo forte de motivação para o cancelamento.\n",
    "\n",
    "- Percebe-se que a imensa maioria (**70,45%**) dos clientes **preferem um tipo específico de quarto**. "
   ]
  },
  {
   "cell_type": "code",
   "execution_count": 28,
   "id": "f78fdca3",
   "metadata": {},
   "outputs": [
    {
     "data": {
      "text/plain": [
       "No Deposit    87.65\n",
       "Non Refund    12.22\n",
       "Refundable     0.14\n",
       "Name: deposit_type, dtype: float64"
      ]
     },
     "execution_count": 28,
     "metadata": {},
     "output_type": "execute_result"
    }
   ],
   "source": [
    "df['deposit_type'].value_counts(normalize= True).mul(100).round(2)"
   ]
  },
  {
   "cell_type": "code",
   "execution_count": 29,
   "id": "74a49f08",
   "metadata": {
    "scrolled": true
   },
   "outputs": [
    {
     "data": {
      "text/plain": [
       "0     84.860\n",
       "1     10.638\n",
       "2      3.187\n",
       "3      0.776\n",
       "4      0.315\n",
       "5      0.099\n",
       "6      0.053\n",
       "7      0.026\n",
       "8      0.014\n",
       "9      0.007\n",
       "10     0.005\n",
       "13     0.004\n",
       "14     0.004\n",
       "15     0.003\n",
       "16     0.002\n",
       "17     0.002\n",
       "12     0.002\n",
       "11     0.002\n",
       "20     0.001\n",
       "21     0.001\n",
       "18     0.001\n",
       "Name: booking_changes, dtype: float64"
      ]
     },
     "execution_count": 29,
     "metadata": {},
     "output_type": "execute_result"
    }
   ],
   "source": [
    "df['booking_changes'].value_counts(normalize= True).mul(100).round(3)"
   ]
  },
  {
   "cell_type": "code",
   "execution_count": 30,
   "id": "9462d4a7",
   "metadata": {
    "scrolled": true
   },
   "outputs": [
    {
     "data": {
      "text/plain": [
       "is_canceled\n",
       "0    29.34\n",
       "1     9.83\n",
       "Name: booking_changes, dtype: float64"
      ]
     },
     "execution_count": 30,
     "metadata": {},
     "output_type": "execute_result"
    }
   ],
   "source": [
    "df.groupby('is_canceled')['booking_changes'].mean().mul(100).round(2)"
   ]
  },
  {
   "cell_type": "code",
   "execution_count": 31,
   "id": "5af9d3d7",
   "metadata": {},
   "outputs": [
    {
     "data": {
      "text/plain": [
       "deposit_type\n",
       "No Deposit    28.38\n",
       "Non Refund    99.36\n",
       "Refundable    22.22\n",
       "Name: is_canceled, dtype: float64"
      ]
     },
     "execution_count": 31,
     "metadata": {},
     "output_type": "execute_result"
    }
   ],
   "source": [
    "df.groupby('deposit_type')['is_canceled'].mean().mul(100).round(2)"
   ]
  },
  {
   "cell_type": "code",
   "execution_count": 32,
   "id": "614451c9",
   "metadata": {
    "scrolled": true
   },
   "outputs": [
    {
     "data": {
      "text/plain": [
       "deposit_type\n",
       "No Deposit    26122\n",
       "Non Refund      182\n",
       "Refundable       96\n",
       "Name: booking_changes, dtype: int64"
      ]
     },
     "execution_count": 32,
     "metadata": {},
     "output_type": "execute_result"
    }
   ],
   "source": [
    "df.groupby('deposit_type')['booking_changes'].sum()"
   ]
  },
  {
   "cell_type": "code",
   "execution_count": 33,
   "id": "5316fd37",
   "metadata": {},
   "outputs": [
    {
     "data": {
      "text/plain": [
       "deposit_type\n",
       "No Deposit    25.0\n",
       "Non Refund     1.2\n",
       "Refundable    59.3\n",
       "dtype: float64"
      ]
     },
     "execution_count": 33,
     "metadata": {},
     "output_type": "execute_result"
    }
   ],
   "source": [
    "round(df.groupby('deposit_type')['booking_changes'].sum() / df['deposit_type'].value_counts(), 3)*100"
   ]
  },
  {
   "cell_type": "code",
   "execution_count": 34,
   "id": "538e4cf9",
   "metadata": {},
   "outputs": [
    {
     "data": {
      "image/png": "[encoded data removed]",
      "text/plain": [
       "<Figure size 500x400 with 1 Axes>"
      ]
     },
     "metadata": {},
     "output_type": "display_data"
    }
   ],
   "source": [
    "sns.set_theme(style= 'whitegrid', font= 'verdana', font_scale= 0.9)\n",
    "plt.figure(figsize= (5,4))\n",
    "\n",
    "ax = sns.stripplot(x= df['deposit_type'], y= df['booking_changes'])\n",
    "ax.set_title(\"Mudanças na Reserva por Tipo de Depósito\", fontweight= 'bold')\n",
    "ax.set_xlabel('')\n",
    "ax.set_ylabel('')\n",
    "ax.set_xticks([0,1,2])\n",
    "ax.set_xticklabels(['Sem Depósito', 'Depósito parcial', 'Depósito total'])\n",
    "ax.spines[['top', 'right', 'left', 'bottom']].set_visible(False)\n",
    "\n",
    "plt.tight_layout()"
   ]
  },
  {
   "cell_type": "markdown",
   "id": "949cb909",
   "metadata": {},
   "source": [
    "- A **grande maioria** (**84,86%**) dos clientes **não realizaram alterações** prévias nas reservas. Apenas uma alteração foi de 10,64% e duas alterações foi de 3,19%. Ou seja, quase a totalidade dos clientes (**98,69%**) **chegam a fazer no máximo até duas alterações** prévias na reserva. Fator positivo para os hotéis pois permite maior capacidade de gerenciamento e programação das reservas. \n",
    "- A **grande maioria** dos clientes preferiram realizar suas reservas **sem depósito** (**87,65%**). Depósito parcial foi de 12,22% e o total de 0,14%.\n",
    "- **É possível** que o **tipo de depósito** feito pelo cliente influencie na **quantidade de alterações prévias** feitas nas reservas. Cerca de **59%** dos clientes que realizaram **depósito parcial fizeram alterações** na reserva. Em uma amostra muito maior, apenas cerca de **25%** dos clientes que  **não realizaram depósito fizeram alterações** na reserva. \n",
    "- A quantidade de clientes que fizeram depósito total foi irrisória assim como sua taxa de alterações prévias nas reservas. "
   ]
  },
  {
   "cell_type": "code",
   "execution_count": 35,
   "id": "3ca45f65",
   "metadata": {
    "scrolled": true
   },
   "outputs": [
    {
     "data": {
      "text/plain": [
       "0      96.903\n",
       "39      0.190\n",
       "58      0.137\n",
       "44      0.118\n",
       "31      0.106\n",
       "        ...  \n",
       "116     0.001\n",
       "109     0.001\n",
       "37      0.001\n",
       "89      0.001\n",
       "36      0.001\n",
       "Name: days_in_waiting_list, Length: 128, dtype: float64"
      ]
     },
     "execution_count": 35,
     "metadata": {},
     "output_type": "execute_result"
    }
   ],
   "source": [
    "df['days_in_waiting_list'].value_counts(normalize= True).mul(100).round(3)"
   ]
  },
  {
   "cell_type": "code",
   "execution_count": 36,
   "id": "a34e5657",
   "metadata": {
    "scrolled": false
   },
   "outputs": [
    {
     "data": {
      "text/plain": [
       "0    63.813\n",
       "1    36.187\n",
       "Name: is_canceled, dtype: float64"
      ]
     },
     "execution_count": 36,
     "metadata": {},
     "output_type": "execute_result"
    }
   ],
   "source": [
    "df_not_waited = df[df['days_in_waiting_list'] == 0]\n",
    "df_not_waited['is_canceled'].value_counts(normalize= True).mul(100).round(3)"
   ]
  },
  {
   "cell_type": "code",
   "execution_count": 37,
   "id": "a9f5b7e0",
   "metadata": {},
   "outputs": [
    {
     "data": {
      "text/html": [
       "<div>\n",
       "<style scoped>\n",
       "    .dataframe tbody tr th:only-of-type {\n",
       "        vertical-align: middle;\n",
       "    }\n",
       "\n",
       "    .dataframe tbody tr th {\n",
       "        vertical-align: top;\n",
       "    }\n",
       "\n",
       "    .dataframe thead th {\n",
       "        text-align: right;\n",
       "    }\n",
       "</style>\n",
       "<table border=\"1\" class=\"dataframe\">\n",
       "  <thead>\n",
       "    <tr style=\"text-align: right;\">\n",
       "      <th></th>\n",
       "      <th>is_canceled</th>\n",
       "      <th>cancellation</th>\n",
       "    </tr>\n",
       "  </thead>\n",
       "  <tbody>\n",
       "    <tr>\n",
       "      <th>0</th>\n",
       "      <td>0</td>\n",
       "      <td>63.813</td>\n",
       "    </tr>\n",
       "    <tr>\n",
       "      <th>1</th>\n",
       "      <td>1</td>\n",
       "      <td>36.187</td>\n",
       "    </tr>\n",
       "  </tbody>\n",
       "</table>\n",
       "</div>"
      ],
      "text/plain": [
       "   is_canceled  cancellation\n",
       "0            0        63.813\n",
       "1            1        36.187"
      ]
     },
     "execution_count": 37,
     "metadata": {},
     "output_type": "execute_result"
    }
   ],
   "source": [
    "not_waited_frame = df_not_waited['is_canceled'].value_counts(normalize= True).mul(100).round(3)\\\n",
    "                .to_frame().reset_index().rename(columns= {'index':'is_canceled', 'is_canceled':'cancellation'})\n",
    "not_waited_frame"
   ]
  },
  {
   "cell_type": "code",
   "execution_count": 38,
   "id": "6182b46a",
   "metadata": {},
   "outputs": [
    {
     "data": {
      "text/plain": [
       "1    63.791\n",
       "0    36.209\n",
       "Name: is_canceled, dtype: float64"
      ]
     },
     "execution_count": 38,
     "metadata": {},
     "output_type": "execute_result"
    }
   ],
   "source": [
    "df_waited = df[df['days_in_waiting_list'] != 0]\n",
    "df_waited['is_canceled'].value_counts(normalize= True).mul(100).round(3)"
   ]
  },
  {
   "cell_type": "code",
   "execution_count": 39,
   "id": "4c463aeb",
   "metadata": {},
   "outputs": [
    {
     "data": {
      "text/html": [
       "<div>\n",
       "<style scoped>\n",
       "    .dataframe tbody tr th:only-of-type {\n",
       "        vertical-align: middle;\n",
       "    }\n",
       "\n",
       "    .dataframe tbody tr th {\n",
       "        vertical-align: top;\n",
       "    }\n",
       "\n",
       "    .dataframe thead th {\n",
       "        text-align: right;\n",
       "    }\n",
       "</style>\n",
       "<table border=\"1\" class=\"dataframe\">\n",
       "  <thead>\n",
       "    <tr style=\"text-align: right;\">\n",
       "      <th></th>\n",
       "      <th>is_canceled</th>\n",
       "      <th>cancellation</th>\n",
       "    </tr>\n",
       "  </thead>\n",
       "  <tbody>\n",
       "    <tr>\n",
       "      <th>0</th>\n",
       "      <td>1</td>\n",
       "      <td>63.791</td>\n",
       "    </tr>\n",
       "    <tr>\n",
       "      <th>1</th>\n",
       "      <td>0</td>\n",
       "      <td>36.209</td>\n",
       "    </tr>\n",
       "  </tbody>\n",
       "</table>\n",
       "</div>"
      ],
      "text/plain": [
       "   is_canceled  cancellation\n",
       "0            1        63.791\n",
       "1            0        36.209"
      ]
     },
     "execution_count": 39,
     "metadata": {},
     "output_type": "execute_result"
    }
   ],
   "source": [
    "waited_frame = df_waited['is_canceled'].value_counts(normalize= True).mul(100).round(3)\\\n",
    "                .to_frame().reset_index().rename(columns= {'index':'is_canceled', 'is_canceled':'cancellation'})\n",
    "waited_frame"
   ]
  },
  {
   "cell_type": "code",
   "execution_count": 40,
   "id": "4d3c32aa",
   "metadata": {},
   "outputs": [
    {
     "data": {
      "text/html": [
       "<div>\n",
       "<style scoped>\n",
       "    .dataframe tbody tr th:only-of-type {\n",
       "        vertical-align: middle;\n",
       "    }\n",
       "\n",
       "    .dataframe tbody tr th {\n",
       "        vertical-align: top;\n",
       "    }\n",
       "\n",
       "    .dataframe thead th {\n",
       "        text-align: right;\n",
       "    }\n",
       "</style>\n",
       "<table border=\"1\" class=\"dataframe\">\n",
       "  <thead>\n",
       "    <tr style=\"text-align: right;\">\n",
       "      <th></th>\n",
       "      <th>is_canceled</th>\n",
       "      <th>cancellation</th>\n",
       "      <th>hue</th>\n",
       "    </tr>\n",
       "  </thead>\n",
       "  <tbody>\n",
       "    <tr>\n",
       "      <th>0</th>\n",
       "      <td>1</td>\n",
       "      <td>63.791</td>\n",
       "      <td>Lista de Espera</td>\n",
       "    </tr>\n",
       "    <tr>\n",
       "      <th>1</th>\n",
       "      <td>0</td>\n",
       "      <td>36.209</td>\n",
       "      <td>Lista de Espera</td>\n",
       "    </tr>\n",
       "    <tr>\n",
       "      <th>0</th>\n",
       "      <td>0</td>\n",
       "      <td>63.813</td>\n",
       "      <td>Sem Lista de Espera</td>\n",
       "    </tr>\n",
       "    <tr>\n",
       "      <th>1</th>\n",
       "      <td>1</td>\n",
       "      <td>36.187</td>\n",
       "      <td>Sem Lista de Espera</td>\n",
       "    </tr>\n",
       "  </tbody>\n",
       "</table>\n",
       "</div>"
      ],
      "text/plain": [
       "   is_canceled  cancellation                  hue\n",
       "0            1        63.791      Lista de Espera\n",
       "1            0        36.209      Lista de Espera\n",
       "0            0        63.813  Sem Lista de Espera\n",
       "1            1        36.187  Sem Lista de Espera"
      ]
     },
     "execution_count": 40,
     "metadata": {},
     "output_type": "execute_result"
    }
   ],
   "source": [
    "df_wait_total = pd.concat([waited_frame, not_waited_frame], axis= 0)\n",
    "df_wait_total['hue'] = ['Lista de Espera',  'Lista de Espera', 'Sem Lista de Espera', 'Sem Lista de Espera']\n",
    "df_wait_total"
   ]
  },
  {
   "cell_type": "code",
   "execution_count": 41,
   "id": "dfa8a2d6",
   "metadata": {
    "scrolled": false
   },
   "outputs": [
    {
     "data": {
      "image/png": "[encoded data removed]",
      "text/plain": [
       "<Figure size 900x500 with 1 Axes>"
      ]
     },
     "metadata": {},
     "output_type": "display_data"
    }
   ],
   "source": [
    "sns.set_theme(style= 'whitegrid', font= 'verdana', font_scale= 0.9)\n",
    "plt.figure(figsize= (9,5))\n",
    "\n",
    "ax = sns.barplot(x= df_wait_total['is_canceled'], y= df_wait_total['cancellation'], hue= df_wait_total['hue'])\n",
    "ax.set_title('Proporção de Cancelamentos por presença na Lista de Espera', fontweight= 'bold', fontsize= 14)\n",
    "ax.set_xticks([0,1])\n",
    "ax.set_xticklabels(['Não Cancelado', 'Cancelado'])\n",
    "ax.set_xlabel('')\n",
    "ax.set_ylabel('Porcentagem', labelpad= 12)\n",
    "ax.set_yticks(np.arange(0,70,5))\n",
    "ax.spines[['top', 'left', 'right', 'bottom']].set_visible(False)\n",
    "plt.legend(title= '')\n",
    "\n",
    "plt.tight_layout()"
   ]
  },
  {
   "cell_type": "code",
   "execution_count": 42,
   "id": "cfb44d2e",
   "metadata": {},
   "outputs": [
    {
     "name": "stdout",
     "output_type": "stream",
     "text": [
      "0.06\n",
      "0.59\n",
      "0.01\n",
      "0.07\n"
     ]
    }
   ],
   "source": [
    "print(round(df_not_waited['required_car_parking_spaces'].mean(), 2))\n",
    "print(round(df_not_waited['total_of_special_requests'].mean(), 2))\n",
    "\n",
    "print(round(df_waited['required_car_parking_spaces'].mean(), 2))\n",
    "print(round(df_waited['total_of_special_requests'].mean(), 2))"
   ]
  },
  {
   "cell_type": "code",
   "execution_count": 43,
   "id": "77a1f2b4",
   "metadata": {},
   "outputs": [
    {
     "name": "stdout",
     "output_type": "stream",
     "text": [
      "1.755813953488372\n",
      "1.9750190166655142\n"
     ]
    }
   ],
   "source": [
    "df_waited['total_people'] = df_waited['adults'] + df_waited['children'] + df_waited['babies']\n",
    "df_not_waited['total_people'] = df_not_waited['adults'] + df_not_waited['children'] + df_not_waited['babies']\n",
    "\n",
    "print(df_waited['total_people'].mean())\n",
    "print(df_not_waited['total_people'].mean())"
   ]
  },
  {
   "cell_type": "code",
   "execution_count": 44,
   "id": "fd5111af",
   "metadata": {},
   "outputs": [
    {
     "data": {
      "text/plain": [
       "October      14.31\n",
       "May          13.76\n",
       "April        12.95\n",
       "September    12.82\n",
       "June         11.47\n",
       "January       8.14\n",
       "March         7.44\n",
       "December      6.54\n",
       "February      5.30\n",
       "November      4.71\n",
       "August        1.54\n",
       "July          1.03\n",
       "Name: arrival_date_month, dtype: float64"
      ]
     },
     "execution_count": 44,
     "metadata": {},
     "output_type": "execute_result"
    }
   ],
   "source": [
    "df_waited['arrival_date_month'].value_counts(normalize= True).mul(100).round(2)"
   ]
  },
  {
   "cell_type": "markdown",
   "id": "55a97571",
   "metadata": {},
   "source": [
    "- A imensa maioira (**96,9%**) dos clientes que fizeram suas reservas **não precisaram ficar na lista de espera**. Excelente métrica, mostrando eficiência no processamento das reservas. \n",
    "\n",
    "- Conforme visto no gráfico, existe uma boa **possibilidade** de que a **permanência na lista de espera** tenha ajudado a influenciar na **decisão de cancelamento** da reserva. Entre as pessoas que esperaram, a grande maioria (63.79%) cancelou, ao passo que entre os que não esperaram, a grande maioria não cancelou (63,81%). Porcentagens praticamente idênticas para situações diametralmente opostas. \n",
    "\n",
    "- Aparentemente, fazer pedidos especiais na reserva dos quartos ou requerer vagas de estacionamento não implicou necessariamente na inclusão na lista de espera. Contudo, é **curioso** notar que os **clientes que de fato fizeram pedidos especiais** ou \"mais robustos\" estão em muito **maior proporção entre os que não figuraram na lista de espera**. Isso **pode indicar** uma **predileção** dos administradores dos hotéis em priorizar os **clientes \"mais robustos\"**, que são mais rentáveis para os hotéis.\n",
    "\n",
    "- A quantidade de pessoas que fizeram parte das reservas aparentemente não foi um fator determinante na inclusão na lista de espera. 1,75 pessoas em média integraram as reservas que figuraram na lista de espera e 1,97 pessoas integraram as reservas que não pertenciam a mesma.\n",
    "\n",
    "- Das reservas que figuraram na lista de espera, em sua maioria tinham reservas marcadas para meses onde o movimento é muito grande, o que é esperado. Inclusive, o mês que mais recebeu hospedagens (Outubro), também foi o mês que mais teve reservas marcadas que figuraram na lista de espera.\n",
    "\n",
    "- A quantidade de alterções na reserva **aparentemente** indica que quanto **mais alterações** forem feitas **maior a chance** de que a reserva **não** seja **cancelada**.\n",
    "\n",
    "- Caso o tipo de depósito seja **sem reembolso**, curiosamente, em quase toda sua totalidade, os clientes **tenderam a cancelar as reservas**. "
   ]
  }
 ],
 "metadata": {
  "kernelspec": {
   "display_name": "base",
   "language": "python",
   "name": "python3"
  },
  "language_info": {
   "codemirror_mode": {
    "name": "ipython",
    "version": 3
   },
   "file_extension": ".py",
   "mimetype": "text/x-python",
   "name": "python",
   "nbconvert_exporter": "python",
   "pygments_lexer": "ipython3",
   "version": "3.9.13"
  },
  "vscode": {
   "interpreter": {
    "hash": "7ce700165e2c4b10bae7603f1c1106a887b66d17bed302f9db11fdd8a44210c1"
   }
  }
 },
 "nbformat": 4,
 "nbformat_minor": 5
}
