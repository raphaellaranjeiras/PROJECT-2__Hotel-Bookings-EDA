{
 "cells": [
  {
   "cell_type": "code",
   "execution_count": 1,
   "id": "a78aa90e",
   "metadata": {},
   "outputs": [],
   "source": [
    "import warnings\n",
    "warnings.filterwarnings('ignore')\n",
    "import pandas as pd\n",
    "import numpy as np\n",
    "import matplotlib.pyplot as plt \n",
    "%matplotlib inline\n",
    "import seaborn as sns"
   ]
  },
  {
   "cell_type": "code",
   "execution_count": 2,
   "id": "54e07093",
   "metadata": {
    "scrolled": true
   },
   "outputs": [
    {
     "data": {
      "text/html": [
       "<div>\n",
       "<style scoped>\n",
       "    .dataframe tbody tr th:only-of-type {\n",
       "        vertical-align: middle;\n",
       "    }\n",
       "\n",
       "    .dataframe tbody tr th {\n",
       "        vertical-align: top;\n",
       "    }\n",
       "\n",
       "    .dataframe thead th {\n",
       "        text-align: right;\n",
       "    }\n",
       "</style>\n",
       "<table border=\"1\" class=\"dataframe\">\n",
       "  <thead>\n",
       "    <tr style=\"text-align: right;\">\n",
       "      <th></th>\n",
       "      <th>hotel</th>\n",
       "      <th>is_canceled</th>\n",
       "      <th>lead_time</th>\n",
       "      <th>arrival_date_year</th>\n",
       "      <th>arrival_date_month</th>\n",
       "      <th>arrival_date_week_number</th>\n",
       "      <th>arrival_date_day_of_month</th>\n",
       "      <th>stays_in_weekend_nights</th>\n",
       "      <th>stays_in_week_nights</th>\n",
       "      <th>adults</th>\n",
       "      <th>children</th>\n",
       "      <th>babies</th>\n",
       "      <th>meal</th>\n",
       "      <th>country</th>\n",
       "      <th>market_segment</th>\n",
       "      <th>distribution_channel</th>\n",
       "      <th>is_repeated_guest</th>\n",
       "      <th>previous_cancellations</th>\n",
       "      <th>previous_bookings_not_canceled</th>\n",
       "      <th>reserved_room_type</th>\n",
       "      <th>assigned_room_type</th>\n",
       "      <th>booking_changes</th>\n",
       "      <th>deposit_type</th>\n",
       "      <th>agent</th>\n",
       "      <th>company</th>\n",
       "      <th>days_in_waiting_list</th>\n",
       "      <th>customer_type</th>\n",
       "      <th>adr</th>\n",
       "      <th>required_car_parking_spaces</th>\n",
       "      <th>total_of_special_requests</th>\n",
       "      <th>reservation_status</th>\n",
       "      <th>reservation_status_date</th>\n",
       "    </tr>\n",
       "  </thead>\n",
       "  <tbody>\n",
       "    <tr>\n",
       "      <th>0</th>\n",
       "      <td>Resort Hotel</td>\n",
       "      <td>0</td>\n",
       "      <td>342</td>\n",
       "      <td>2015</td>\n",
       "      <td>July</td>\n",
       "      <td>27</td>\n",
       "      <td>1</td>\n",
       "      <td>0</td>\n",
       "      <td>0</td>\n",
       "      <td>2</td>\n",
       "      <td>0.0</td>\n",
       "      <td>0</td>\n",
       "      <td>BB</td>\n",
       "      <td>PRT</td>\n",
       "      <td>Direct</td>\n",
       "      <td>Direct</td>\n",
       "      <td>0</td>\n",
       "      <td>0</td>\n",
       "      <td>0</td>\n",
       "      <td>C</td>\n",
       "      <td>C</td>\n",
       "      <td>3</td>\n",
       "      <td>No Deposit</td>\n",
       "      <td>NaN</td>\n",
       "      <td>NaN</td>\n",
       "      <td>0</td>\n",
       "      <td>Transient</td>\n",
       "      <td>0.0</td>\n",
       "      <td>0</td>\n",
       "      <td>0</td>\n",
       "      <td>Check-Out</td>\n",
       "      <td>2015-07-01</td>\n",
       "    </tr>\n",
       "    <tr>\n",
       "      <th>1</th>\n",
       "      <td>Resort Hotel</td>\n",
       "      <td>0</td>\n",
       "      <td>737</td>\n",
       "      <td>2015</td>\n",
       "      <td>July</td>\n",
       "      <td>27</td>\n",
       "      <td>1</td>\n",
       "      <td>0</td>\n",
       "      <td>0</td>\n",
       "      <td>2</td>\n",
       "      <td>0.0</td>\n",
       "      <td>0</td>\n",
       "      <td>BB</td>\n",
       "      <td>PRT</td>\n",
       "      <td>Direct</td>\n",
       "      <td>Direct</td>\n",
       "      <td>0</td>\n",
       "      <td>0</td>\n",
       "      <td>0</td>\n",
       "      <td>C</td>\n",
       "      <td>C</td>\n",
       "      <td>4</td>\n",
       "      <td>No Deposit</td>\n",
       "      <td>NaN</td>\n",
       "      <td>NaN</td>\n",
       "      <td>0</td>\n",
       "      <td>Transient</td>\n",
       "      <td>0.0</td>\n",
       "      <td>0</td>\n",
       "      <td>0</td>\n",
       "      <td>Check-Out</td>\n",
       "      <td>2015-07-01</td>\n",
       "    </tr>\n",
       "    <tr>\n",
       "      <th>2</th>\n",
       "      <td>Resort Hotel</td>\n",
       "      <td>0</td>\n",
       "      <td>7</td>\n",
       "      <td>2015</td>\n",
       "      <td>July</td>\n",
       "      <td>27</td>\n",
       "      <td>1</td>\n",
       "      <td>0</td>\n",
       "      <td>1</td>\n",
       "      <td>1</td>\n",
       "      <td>0.0</td>\n",
       "      <td>0</td>\n",
       "      <td>BB</td>\n",
       "      <td>GBR</td>\n",
       "      <td>Direct</td>\n",
       "      <td>Direct</td>\n",
       "      <td>0</td>\n",
       "      <td>0</td>\n",
       "      <td>0</td>\n",
       "      <td>A</td>\n",
       "      <td>C</td>\n",
       "      <td>0</td>\n",
       "      <td>No Deposit</td>\n",
       "      <td>NaN</td>\n",
       "      <td>NaN</td>\n",
       "      <td>0</td>\n",
       "      <td>Transient</td>\n",
       "      <td>75.0</td>\n",
       "      <td>0</td>\n",
       "      <td>0</td>\n",
       "      <td>Check-Out</td>\n",
       "      <td>2015-07-02</td>\n",
       "    </tr>\n",
       "    <tr>\n",
       "      <th>3</th>\n",
       "      <td>Resort Hotel</td>\n",
       "      <td>0</td>\n",
       "      <td>13</td>\n",
       "      <td>2015</td>\n",
       "      <td>July</td>\n",
       "      <td>27</td>\n",
       "      <td>1</td>\n",
       "      <td>0</td>\n",
       "      <td>1</td>\n",
       "      <td>1</td>\n",
       "      <td>0.0</td>\n",
       "      <td>0</td>\n",
       "      <td>BB</td>\n",
       "      <td>GBR</td>\n",
       "      <td>Corporate</td>\n",
       "      <td>Corporate</td>\n",
       "      <td>0</td>\n",
       "      <td>0</td>\n",
       "      <td>0</td>\n",
       "      <td>A</td>\n",
       "      <td>A</td>\n",
       "      <td>0</td>\n",
       "      <td>No Deposit</td>\n",
       "      <td>304.0</td>\n",
       "      <td>NaN</td>\n",
       "      <td>0</td>\n",
       "      <td>Transient</td>\n",
       "      <td>75.0</td>\n",
       "      <td>0</td>\n",
       "      <td>0</td>\n",
       "      <td>Check-Out</td>\n",
       "      <td>2015-07-02</td>\n",
       "    </tr>\n",
       "    <tr>\n",
       "      <th>4</th>\n",
       "      <td>Resort Hotel</td>\n",
       "      <td>0</td>\n",
       "      <td>14</td>\n",
       "      <td>2015</td>\n",
       "      <td>July</td>\n",
       "      <td>27</td>\n",
       "      <td>1</td>\n",
       "      <td>0</td>\n",
       "      <td>2</td>\n",
       "      <td>2</td>\n",
       "      <td>0.0</td>\n",
       "      <td>0</td>\n",
       "      <td>BB</td>\n",
       "      <td>GBR</td>\n",
       "      <td>Online TA</td>\n",
       "      <td>TA/TO</td>\n",
       "      <td>0</td>\n",
       "      <td>0</td>\n",
       "      <td>0</td>\n",
       "      <td>A</td>\n",
       "      <td>A</td>\n",
       "      <td>0</td>\n",
       "      <td>No Deposit</td>\n",
       "      <td>240.0</td>\n",
       "      <td>NaN</td>\n",
       "      <td>0</td>\n",
       "      <td>Transient</td>\n",
       "      <td>98.0</td>\n",
       "      <td>0</td>\n",
       "      <td>1</td>\n",
       "      <td>Check-Out</td>\n",
       "      <td>2015-07-03</td>\n",
       "    </tr>\n",
       "  </tbody>\n",
       "</table>\n",
       "</div>"
      ],
      "text/plain": [
       "          hotel  is_canceled  lead_time  arrival_date_year arrival_date_month  \\\n",
       "0  Resort Hotel            0        342               2015               July   \n",
       "1  Resort Hotel            0        737               2015               July   \n",
       "2  Resort Hotel            0          7               2015               July   \n",
       "3  Resort Hotel            0         13               2015               July   \n",
       "4  Resort Hotel            0         14               2015               July   \n",
       "\n",
       "   arrival_date_week_number  arrival_date_day_of_month  \\\n",
       "0                        27                          1   \n",
       "1                        27                          1   \n",
       "2                        27                          1   \n",
       "3                        27                          1   \n",
       "4                        27                          1   \n",
       "\n",
       "   stays_in_weekend_nights  stays_in_week_nights  adults  children  babies  \\\n",
       "0                        0                     0       2       0.0       0   \n",
       "1                        0                     0       2       0.0       0   \n",
       "2                        0                     1       1       0.0       0   \n",
       "3                        0                     1       1       0.0       0   \n",
       "4                        0                     2       2       0.0       0   \n",
       "\n",
       "  meal country market_segment distribution_channel  is_repeated_guest  \\\n",
       "0   BB     PRT         Direct               Direct                  0   \n",
       "1   BB     PRT         Direct               Direct                  0   \n",
       "2   BB     GBR         Direct               Direct                  0   \n",
       "3   BB     GBR      Corporate            Corporate                  0   \n",
       "4   BB     GBR      Online TA                TA/TO                  0   \n",
       "\n",
       "   previous_cancellations  previous_bookings_not_canceled reserved_room_type  \\\n",
       "0                       0                               0                  C   \n",
       "1                       0                               0                  C   \n",
       "2                       0                               0                  A   \n",
       "3                       0                               0                  A   \n",
       "4                       0                               0                  A   \n",
       "\n",
       "  assigned_room_type  booking_changes deposit_type  agent  company  \\\n",
       "0                  C                3   No Deposit    NaN      NaN   \n",
       "1                  C                4   No Deposit    NaN      NaN   \n",
       "2                  C                0   No Deposit    NaN      NaN   \n",
       "3                  A                0   No Deposit  304.0      NaN   \n",
       "4                  A                0   No Deposit  240.0      NaN   \n",
       "\n",
       "   days_in_waiting_list customer_type   adr  required_car_parking_spaces  \\\n",
       "0                     0     Transient   0.0                            0   \n",
       "1                     0     Transient   0.0                            0   \n",
       "2                     0     Transient  75.0                            0   \n",
       "3                     0     Transient  75.0                            0   \n",
       "4                     0     Transient  98.0                            0   \n",
       "\n",
       "   total_of_special_requests reservation_status reservation_status_date  \n",
       "0                          0          Check-Out              2015-07-01  \n",
       "1                          0          Check-Out              2015-07-01  \n",
       "2                          0          Check-Out              2015-07-02  \n",
       "3                          0          Check-Out              2015-07-02  \n",
       "4                          1          Check-Out              2015-07-03  "
      ]
     },
     "execution_count": 2,
     "metadata": {},
     "output_type": "execute_result"
    }
   ],
   "source": [
    "df = pd.read_csv('hotel_bookings.csv')\n",
    "pd.set_option('display.max_columns', None)\n",
    "df.head()"
   ]
  },
  {
   "cell_type": "code",
   "execution_count": 3,
   "id": "b43fcd12",
   "metadata": {
    "tags": []
   },
   "outputs": [
    {
     "name": "stdout",
     "output_type": "stream",
     "text": [
      "<class 'pandas.core.frame.DataFrame'>\n",
      "RangeIndex: 119390 entries, 0 to 119389\n",
      "Data columns (total 32 columns):\n",
      " #   Column                          Non-Null Count   Dtype  \n",
      "---  ------                          --------------   -----  \n",
      " 0   hotel                           119390 non-null  object \n",
      " 1   is_canceled                     119390 non-null  int64  \n",
      " 2   lead_time                       119390 non-null  int64  \n",
      " 3   arrival_date_year               119390 non-null  int64  \n",
      " 4   arrival_date_month              119390 non-null  object \n",
      " 5   arrival_date_week_number        119390 non-null  int64  \n",
      " 6   arrival_date_day_of_month       119390 non-null  int64  \n",
      " 7   stays_in_weekend_nights         119390 non-null  int64  \n",
      " 8   stays_in_week_nights            119390 non-null  int64  \n",
      " 9   adults                          119390 non-null  int64  \n",
      " 10  children                        119386 non-null  float64\n",
      " 11  babies                          119390 non-null  int64  \n",
      " 12  meal                            119390 non-null  object \n",
      " 13  country                         118902 non-null  object \n",
      " 14  market_segment                  119390 non-null  object \n",
      " 15  distribution_channel            119390 non-null  object \n",
      " 16  is_repeated_guest               119390 non-null  int64  \n",
      " 17  previous_cancellations          119390 non-null  int64  \n",
      " 18  previous_bookings_not_canceled  119390 non-null  int64  \n",
      " 19  reserved_room_type              119390 non-null  object \n",
      " 20  assigned_room_type              119390 non-null  object \n",
      " 21  booking_changes                 119390 non-null  int64  \n",
      " 22  deposit_type                    119390 non-null  object \n",
      " 23  agent                           103050 non-null  float64\n",
      " 24  company                         6797 non-null    float64\n",
      " 25  days_in_waiting_list            119390 non-null  int64  \n",
      " 26  customer_type                   119390 non-null  object \n",
      " 27  adr                             119390 non-null  float64\n",
      " 28  required_car_parking_spaces     119390 non-null  int64  \n",
      " 29  total_of_special_requests       119390 non-null  int64  \n",
      " 30  reservation_status              119390 non-null  object \n",
      " 31  reservation_status_date         119390 non-null  object \n",
      "dtypes: float64(4), int64(16), object(12)\n",
      "memory usage: 29.1+ MB\n"
     ]
    }
   ],
   "source": [
    "df.info()"
   ]
  },
  {
   "cell_type": "markdown",
   "id": "0e63d44a",
   "metadata": {},
   "source": [
    "### Verificação - Valores Nulos e Duplicados"
   ]
  },
  {
   "cell_type": "code",
   "execution_count": 4,
   "id": "3e7a2d72",
   "metadata": {
    "scrolled": false,
    "tags": []
   },
   "outputs": [
    {
     "data": {
      "text/plain": [
       "company     94.306893\n",
       "agent       13.686238\n",
       "country      0.408744\n",
       "children     0.003350\n",
       "Name: Null Values, dtype: float64"
      ]
     },
     "execution_count": 4,
     "metadata": {},
     "output_type": "execute_result"
    }
   ],
   "source": [
    "null_values = pd.Series(df.isnull().mean() *100, name = 'Null Values')\n",
    "null_values.sort_values(ascending=False)[null_values>0]"
   ]
  },
  {
   "cell_type": "code",
   "execution_count": 5,
   "id": "d8254597",
   "metadata": {
    "scrolled": true
   },
   "outputs": [
    {
     "data": {
      "text/plain": [
       "August       13877\n",
       "July         12661\n",
       "May          11791\n",
       "October      11160\n",
       "April        11089\n",
       "June         10939\n",
       "September    10508\n",
       "March         9794\n",
       "February      8068\n",
       "November      6794\n",
       "December      6780\n",
       "January       5929\n",
       "Name: arrival_date_month, dtype: int64"
      ]
     },
     "execution_count": 5,
     "metadata": {},
     "output_type": "execute_result"
    }
   ],
   "source": [
    "df['arrival_date_month'].value_counts(dropna= False)"
   ]
  },
  {
   "cell_type": "code",
   "execution_count": 3,
   "id": "770b1f1c",
   "metadata": {},
   "outputs": [
    {
     "data": {
      "text/plain": [
       "31994"
      ]
     },
     "execution_count": 3,
     "metadata": {},
     "output_type": "execute_result"
    }
   ],
   "source": [
    "df.duplicated().sum()"
   ]
  },
  {
   "cell_type": "markdown",
   "id": "0808279b",
   "metadata": {},
   "source": [
    "- As variáveis \"company\" e \"agent\" representam IDs de agências e companias de viagem que assim foram representadas para manter o anonimato. Por conta disso, não representam nenhuma informação relevante para a análise exploratória e para um futuro modelo de machine learning. Além disso a variável \"company\" possui um valor impraticável de valores nulos. A variável \"agente\" também possui um valor considerável. Alinhado ao exposto, decidiu-se remover essas variáveis com antecedência. \n",
    "\n",
    "- As demais colunas (\"country\" e \"children\") terão o endereçamento de seus valores posteriormente.\n",
    "\n",
    "\n",
    "- Os linhas duplicadas terão seu endereçamento posteriormente."
   ]
  },
  {
   "cell_type": "markdown",
   "id": "d023664d-99d5-4be9-9adb-f31d94651dbd",
   "metadata": {},
   "source": [
    "### Exclusão de Features não agregadoras\n",
    "\n",
    "> Não trazem informação relevante para o modelo de machine learning nem para a análie do negócio, seja devido ao seu próprio valor semântico, seja devido a redundância ou à grande quantidade de valores nulos."
   ]
  },
  {
   "cell_type": "code",
   "execution_count": 6,
   "id": "195b28de-ff2e-4560-8029-233aa415ad30",
   "metadata": {},
   "outputs": [],
   "source": [
    "df = df.drop(columns= ['arrival_date_week_number', 'company', 'agent'], axis= 1)"
   ]
  },
  {
   "cell_type": "markdown",
   "id": "91153f2b-3957-4567-a943-be40395657f1",
   "metadata": {},
   "source": [
    "### Análise Hospedagem"
   ]
  },
  {
   "cell_type": "code",
   "execution_count": 7,
   "id": "5a9e888c-a1d4-46fc-b817-03554b91a2ed",
   "metadata": {},
   "outputs": [
    {
     "data": {
      "text/plain": [
       "0    62.96\n",
       "1    37.04\n",
       "Name: is_canceled, dtype: float64"
      ]
     },
     "execution_count": 7,
     "metadata": {},
     "output_type": "execute_result"
    }
   ],
   "source": [
    "df['is_canceled'].value_counts(normalize= True).mul(100).round(2)"
   ]
  },
  {
   "cell_type": "code",
   "execution_count": 8,
   "id": "d399377b-6281-47c6-978a-9eaf7e7e50d3",
   "metadata": {},
   "outputs": [
    {
     "data": {
      "image/png": "[encoded data removed]",
      "text/plain": [
       "<Figure size 400x500 with 1 Axes>"
      ]
     },
     "metadata": {},
     "output_type": "display_data"
    }
   ],
   "source": [
    "sns.set_theme(style='whitegrid', font='verdana', font_scale = 1.2)\n",
    "plt.figure(figsize= (4, 5))\n",
    "\n",
    "ax= sns.barplot(x= df['is_canceled'].value_counts().index, y= df['is_canceled'].value_counts(normalize= True).mul(100).round(2))\n",
    "ax.set_title('Reservas', pad= 15, fontweight= 'bold')\n",
    "ax.set_xticklabels(['Efetivadas', 'Canceladas'])\n",
    "ax.set_ylabel('Porcentagem', labelpad= 14)\n",
    "ax.set_yticks(np.arange(0, 70, 5))\n",
    "ax.set_yticklabels(np.arange(0, 70, 5), fontsize= 8)\n",
    "ax.spines[['top', 'right', 'left']].set_visible(False)\n",
    "\n",
    "plt.tight_layout()"
   ]
  },
  {
   "cell_type": "code",
   "execution_count": 9,
   "id": "ca85904b-1c55-4dff-b628-24eca70f8763",
   "metadata": {},
   "outputs": [],
   "source": [
    "df['arrival_date_month'] = pd.Categorical(values = df['arrival_date_month'], \n",
    "                                          categories = ['January', 'February', 'March', 'April','May', 'June', \n",
    "                                                        'July', 'August', 'September','October', 'November', 'December'])\n",
    "\n",
    "#Para trabalhar apenas com os dados que correspondem a reservas bem sucedidas: \n",
    "df_not_canceled = df.loc[df['is_canceled'] == 0, :] \n",
    "\n",
    "#Para trabalhar apenas com os dados que correspondem a reservas não sucedidas: \n",
    "df_canceled = df.loc[df['is_canceled'] == 1, :]  "
   ]
  },
  {
   "cell_type": "code",
   "execution_count": 10,
   "id": "a5de66e0-92f8-4084-bbbd-7ef4fce0c338",
   "metadata": {},
   "outputs": [
    {
     "data": {
      "image/png": "[encoded data removed]",
      "text/plain": [
       "<Figure size 400x400 with 1 Axes>"
      ]
     },
     "metadata": {},
     "output_type": "display_data"
    }
   ],
   "source": [
    "sns.set_theme(style='whitegrid', font='verdana', font_scale = 1.2)\n",
    "plt.figure(figsize=(4,4))\n",
    "\n",
    "ax = sns.countplot(data= df, x= df_not_canceled['hotel'])\n",
    "ax.set_title('Reservas efetivadas por Hotel', pad= 20, fontweight= 'bold')\n",
    "ax.set_ylabel('')\n",
    "ax.set_xlabel('')\n",
    "ax.set_yticks(np.arange(0, 55000, 5000))\n",
    "ax.set_yticklabels(np.arange(0, 55000, 5000), fontsize= 8)\n",
    "ax.spines[['top', 'right', 'left']].set_visible(False)\n",
    "\n",
    "plt.tight_layout()"
   ]
  },
  {
   "cell_type": "code",
   "execution_count": 11,
   "id": "d7ea4fb8",
   "metadata": {},
   "outputs": [
    {
     "data": {
      "text/plain": [
       "City Hotel      61.5\n",
       "Resort Hotel    38.5\n",
       "Name: hotel, dtype: float64"
      ]
     },
     "execution_count": 11,
     "metadata": {},
     "output_type": "execute_result"
    }
   ],
   "source": [
    "df_not_canceled['hotel'].value_counts(normalize= True).mul(100).round(2)"
   ]
  },
  {
   "cell_type": "code",
   "execution_count": 12,
   "id": "ef6cb269",
   "metadata": {},
   "outputs": [
    {
     "data": {
      "text/plain": [
       "75166"
      ]
     },
     "execution_count": 12,
     "metadata": {},
     "output_type": "execute_result"
    }
   ],
   "source": [
    "df_not_canceled['hotel'].value_counts().sum()"
   ]
  },
  {
   "cell_type": "code",
   "execution_count": 42,
   "id": "3353231d-8750-492d-a9fe-9238cc91e010",
   "metadata": {
    "tags": []
   },
   "outputs": [
    {
     "data": {
      "text/html": [
       "<style type=\"text/css\">\n",
       "#T_52873_row0_col6 {\n",
       "  background-color: blue;\n",
       "}\n",
       "#T_52873_row1_col9 {\n",
       "  background-color: red;\n",
       "}\n",
       "</style>\n",
       "<table id=\"T_52873\">\n",
       "  <thead>\n",
       "    <tr>\n",
       "      <th class=\"index_name level0\" >arrival_date_month</th>\n",
       "      <th id=\"T_52873_level0_col0\" class=\"col_heading level0 col0\" >January</th>\n",
       "      <th id=\"T_52873_level0_col1\" class=\"col_heading level0 col1\" >February</th>\n",
       "      <th id=\"T_52873_level0_col2\" class=\"col_heading level0 col2\" >March</th>\n",
       "      <th id=\"T_52873_level0_col3\" class=\"col_heading level0 col3\" >April</th>\n",
       "      <th id=\"T_52873_level0_col4\" class=\"col_heading level0 col4\" >May</th>\n",
       "      <th id=\"T_52873_level0_col5\" class=\"col_heading level0 col5\" >June</th>\n",
       "      <th id=\"T_52873_level0_col6\" class=\"col_heading level0 col6\" >July</th>\n",
       "      <th id=\"T_52873_level0_col7\" class=\"col_heading level0 col7\" >August</th>\n",
       "      <th id=\"T_52873_level0_col8\" class=\"col_heading level0 col8\" >September</th>\n",
       "      <th id=\"T_52873_level0_col9\" class=\"col_heading level0 col9\" >October</th>\n",
       "      <th id=\"T_52873_level0_col10\" class=\"col_heading level0 col10\" >November</th>\n",
       "      <th id=\"T_52873_level0_col11\" class=\"col_heading level0 col11\" >December</th>\n",
       "    </tr>\n",
       "    <tr>\n",
       "      <th class=\"index_name level0\" >arrival_date_year</th>\n",
       "      <th class=\"blank col0\" >&nbsp;</th>\n",
       "      <th class=\"blank col1\" >&nbsp;</th>\n",
       "      <th class=\"blank col2\" >&nbsp;</th>\n",
       "      <th class=\"blank col3\" >&nbsp;</th>\n",
       "      <th class=\"blank col4\" >&nbsp;</th>\n",
       "      <th class=\"blank col5\" >&nbsp;</th>\n",
       "      <th class=\"blank col6\" >&nbsp;</th>\n",
       "      <th class=\"blank col7\" >&nbsp;</th>\n",
       "      <th class=\"blank col8\" >&nbsp;</th>\n",
       "      <th class=\"blank col9\" >&nbsp;</th>\n",
       "      <th class=\"blank col10\" >&nbsp;</th>\n",
       "      <th class=\"blank col11\" >&nbsp;</th>\n",
       "    </tr>\n",
       "  </thead>\n",
       "  <tbody>\n",
       "    <tr>\n",
       "      <th id=\"T_52873_level0_row0\" class=\"row_heading level0 row0\" >2015</th>\n",
       "      <td id=\"T_52873_row0_col0\" class=\"data row0 col0\" >0</td>\n",
       "      <td id=\"T_52873_row0_col1\" class=\"data row0 col1\" >0</td>\n",
       "      <td id=\"T_52873_row0_col2\" class=\"data row0 col2\" >0</td>\n",
       "      <td id=\"T_52873_row0_col3\" class=\"data row0 col3\" >0</td>\n",
       "      <td id=\"T_52873_row0_col4\" class=\"data row0 col4\" >0</td>\n",
       "      <td id=\"T_52873_row0_col5\" class=\"data row0 col5\" >0</td>\n",
       "      <td id=\"T_52873_row0_col6\" class=\"data row0 col6\" >1517</td>\n",
       "      <td id=\"T_52873_row0_col7\" class=\"data row0 col7\" >2291</td>\n",
       "      <td id=\"T_52873_row0_col8\" class=\"data row0 col8\" >3020</td>\n",
       "      <td id=\"T_52873_row0_col9\" class=\"data row0 col9\" >3225</td>\n",
       "      <td id=\"T_52873_row0_col10\" class=\"data row0 col10\" >1854</td>\n",
       "      <td id=\"T_52873_row0_col11\" class=\"data row0 col11\" >1947</td>\n",
       "    </tr>\n",
       "    <tr>\n",
       "      <th id=\"T_52873_level0_row1\" class=\"row_heading level0 row1\" >2016</th>\n",
       "      <td id=\"T_52873_row1_col0\" class=\"data row1 col0\" >1691</td>\n",
       "      <td id=\"T_52873_row1_col1\" class=\"data row1 col1\" >2554</td>\n",
       "      <td id=\"T_52873_row1_col2\" class=\"data row1 col2\" >3347</td>\n",
       "      <td id=\"T_52873_row1_col3\" class=\"data row1 col3\" >3367</td>\n",
       "      <td id=\"T_52873_row1_col4\" class=\"data row1 col4\" >3563</td>\n",
       "      <td id=\"T_52873_row1_col5\" class=\"data row1 col5\" >3196</td>\n",
       "      <td id=\"T_52873_row1_col6\" class=\"data row1 col6\" >3073</td>\n",
       "      <td id=\"T_52873_row1_col7\" class=\"data row1 col7\" >3238</td>\n",
       "      <td id=\"T_52873_row1_col8\" class=\"data row1 col8\" >3372</td>\n",
       "      <td id=\"T_52873_row1_col9\" class=\"data row1 col9\" >3689</td>\n",
       "      <td id=\"T_52873_row1_col10\" class=\"data row1 col10\" >2818</td>\n",
       "      <td id=\"T_52873_row1_col11\" class=\"data row1 col11\" >2462</td>\n",
       "    </tr>\n",
       "    <tr>\n",
       "      <th id=\"T_52873_level0_row2\" class=\"row_heading level0 row2\" >2017</th>\n",
       "      <td id=\"T_52873_row2_col0\" class=\"data row2 col0\" >2431</td>\n",
       "      <td id=\"T_52873_row2_col1\" class=\"data row2 col1\" >2818</td>\n",
       "      <td id=\"T_52873_row2_col2\" class=\"data row2 col2\" >3298</td>\n",
       "      <td id=\"T_52873_row2_col3\" class=\"data row2 col3\" >3198</td>\n",
       "      <td id=\"T_52873_row2_col4\" class=\"data row2 col4\" >3551</td>\n",
       "      <td id=\"T_52873_row2_col5\" class=\"data row2 col5\" >3208</td>\n",
       "      <td id=\"T_52873_row2_col6\" class=\"data row2 col6\" >3329</td>\n",
       "      <td id=\"T_52873_row2_col7\" class=\"data row2 col7\" >3109</td>\n",
       "      <td id=\"T_52873_row2_col8\" class=\"data row2 col8\" >0</td>\n",
       "      <td id=\"T_52873_row2_col9\" class=\"data row2 col9\" >0</td>\n",
       "      <td id=\"T_52873_row2_col10\" class=\"data row2 col10\" >0</td>\n",
       "      <td id=\"T_52873_row2_col11\" class=\"data row2 col11\" >0</td>\n",
       "    </tr>\n",
       "  </tbody>\n",
       "</table>\n"
      ],
      "text/plain": [
       "<pandas.io.formats.style.Styler at 0x1c0573a8be0>"
      ]
     },
     "execution_count": 42,
     "metadata": {},
     "output_type": "execute_result"
    }
   ],
   "source": [
    "group_year = pd.DataFrame(df_not_canceled.groupby(['arrival_date_year', \n",
    "                                                   'arrival_date_month'])['arrival_date_day_of_month'].count().unstack())\n",
    "\n",
    "group_year.style.applymap(\n",
    "    lambda x: 'background-color: red' if x == group_year.values.max() else None).applymap(\n",
    "    lambda x: 'background-color: blue' if x == np.min(group_year.values[np.nonzero(group_year.values)]) else None)"
   ]
  },
  {
   "cell_type": "markdown",
   "id": "c168f591-4097-41d6-8694-cc094858c902",
   "metadata": {},
   "source": [
    "- Do total de reservas, 37,04% foram canceladas e 62,96% não foram canceladas. Temos um **desbalanceamento de classe**.\n",
    "\n",
    "- Os meses que não houve reservas se justificam pois o data set não abrangeu esse período.\n",
    "\n",
    "- O total de reservas bem sucedidas foi: 75.166\n",
    "\n",
    "- Desse total, 38,5% (28.938) foram de reservas para o Resort Hotel e 61,5% (46.228) para o City Hotel.\n",
    "\n",
    "- Dentro do período de abrangência do data set, os meses que **mais** e **menos** houve chegada de novos hóspedes foram **Outubro de 2016** e **Julho de 2015**. "
   ]
  },
  {
   "cell_type": "code",
   "execution_count": 14,
   "id": "48ef840e-17c7-4b2d-a1d6-80b78df50ee3",
   "metadata": {
    "tags": []
   },
   "outputs": [
    {
     "data": {
      "image/png": "[encoded data removed]",
      "text/plain": [
       "<Figure size 1300x800 with 1 Axes>"
      ]
     },
     "metadata": {},
     "output_type": "display_data"
    }
   ],
   "source": [
    "sns.set_theme(style='whitegrid', font='verdana', font_scale = 1.1)\n",
    "plt.figure(figsize=(13, 8))\n",
    "\n",
    "ax = sns.countplot(y = df_not_canceled['arrival_date_month'], hue= df_not_canceled['arrival_date_year'], saturation = 0.95)\n",
    "\n",
    "ax.set_title('Quantidade de Hospedagens', fontsize = 18, fontweight= 'bold', pad = 15)\n",
    "ax.set_xlabel('')\n",
    "ax.set_ylabel('')\n",
    "ax.set_xticks(np.arange(0, 3875, 125))\n",
    "ax.set_xticklabels(np.arange(0, 3875, 125), fontsize= 9)\n",
    "ax.spines[['top', 'right', 'left', 'bottom']].set_visible(False)\n",
    "\n",
    "plt.legend(title= 'Ano de Chegada', labels= np.unique(df['arrival_date_year']), loc= 'upper right')\n",
    "\n",
    "plt.tight_layout()"
   ]
  },
  {
   "cell_type": "markdown",
   "id": "eb3e3cdb-4a15-4c7f-862d-7b2708ebaa20",
   "metadata": {},
   "source": [
    "### Análise Estadia"
   ]
  },
  {
   "cell_type": "code",
   "execution_count": 15,
   "id": "fc012f3d-7596-49dd-988c-18aa3348d5fe",
   "metadata": {},
   "outputs": [
    {
     "data": {
      "text/plain": [
       "255040"
      ]
     },
     "execution_count": 15,
     "metadata": {},
     "output_type": "execute_result"
    }
   ],
   "source": [
    "df_not_canceled['stays_in_week_nights'].sum() + df_not_canceled['stays_in_weekend_nights'].sum()"
   ]
  },
  {
   "cell_type": "code",
   "execution_count": 16,
   "id": "643ed9b0-7cae-4c2b-937f-8da4a400ebfd",
   "metadata": {
    "tags": []
   },
   "outputs": [
    {
     "data": {
      "text/html": [
       "<div>\n",
       "<style scoped>\n",
       "    .dataframe tbody tr th:only-of-type {\n",
       "        vertical-align: middle;\n",
       "    }\n",
       "\n",
       "    .dataframe tbody tr th {\n",
       "        vertical-align: top;\n",
       "    }\n",
       "\n",
       "    .dataframe thead th {\n",
       "        text-align: right;\n",
       "    }\n",
       "</style>\n",
       "<table border=\"1\" class=\"dataframe\">\n",
       "  <thead>\n",
       "    <tr style=\"text-align: right;\">\n",
       "      <th></th>\n",
       "      <th>hotel</th>\n",
       "      <th>stays_in_weekend_nights</th>\n",
       "      <th>stays_in_week_nights</th>\n",
       "    </tr>\n",
       "  </thead>\n",
       "  <tbody>\n",
       "    <tr>\n",
       "      <th>0</th>\n",
       "      <td>City Hotel</td>\n",
       "      <td>37014</td>\n",
       "      <td>98139</td>\n",
       "    </tr>\n",
       "    <tr>\n",
       "      <th>1</th>\n",
       "      <td>Resort Hotel</td>\n",
       "      <td>32813</td>\n",
       "      <td>87074</td>\n",
       "    </tr>\n",
       "  </tbody>\n",
       "</table>\n",
       "</div>"
      ],
      "text/plain": [
       "          hotel  stays_in_weekend_nights  stays_in_week_nights\n",
       "0    City Hotel                    37014                 98139\n",
       "1  Resort Hotel                    32813                 87074"
      ]
     },
     "execution_count": 16,
     "metadata": {},
     "output_type": "execute_result"
    }
   ],
   "source": [
    "group_stays = pd.DataFrame(df_not_canceled.groupby(['hotel'])[['stays_in_weekend_nights', \n",
    "                                                               'stays_in_week_nights']].sum().reset_index())\n",
    "group_stays"
   ]
  },
  {
   "cell_type": "code",
   "execution_count": 17,
   "id": "a6eb9cdd-ff36-446a-908a-26675a4d73de",
   "metadata": {
    "scrolled": true
   },
   "outputs": [
    {
     "name": "stdout",
     "output_type": "stream",
     "text": [
      "27.39\n",
      "72.61\n",
      "\n",
      "27.37\n",
      "72.63\n"
     ]
    }
   ],
   "source": [
    "stays_max = group_stays.iloc[:, 1:3].apply(np.sum, axis= 1)\n",
    "\n",
    "print(((group_stays.iat[0,1] / (stays_max[0]))*100).round(2))\n",
    "print(((group_stays.iat[0,2] / (stays_max[0]))*100).round(2))\n",
    "print('')\n",
    "print(((group_stays.iat[1,1] / (stays_max[1]))*100).round(2))\n",
    "print(((group_stays.iat[1,2] / (stays_max[1]))*100).round(2))"
   ]
  },
  {
   "cell_type": "markdown",
   "id": "4ee0fa8e-b886-4a96-98ac-d998ac8ce657",
   "metadata": {},
   "source": [
    "- A estadia total programada nos hoteis foi de 255.040 dias.\n",
    "\n",
    "- O total de estadias programadas no City Hotel foi de 135.153 dias. Desse total, 72.6% (98.139) foram estadias em dias de semana e 27.39% (37.014) foram aos finais de semana.\n",
    "\n",
    "- O total de estadias programadas no Resort Hotel foi de 119.887 dias. Desse total, 72.63% (87.074) foram estadias em dias de semana e 27.37% (32.813) foram aos finais de semana.\n",
    "\n",
    "- Devido a proporção quase idêntica de estadias de fim de semana e dias de semana entre os hoteis, provavelmente esses valores correspondam à proporção de dias na semana e não a alguma predileção específica entre momento da semana e a qual o hotel escolher.  "
   ]
  },
  {
   "cell_type": "code",
   "execution_count": 18,
   "id": "f261b32e-448b-48f8-8143-e103adf9098b",
   "metadata": {},
   "outputs": [
    {
     "data": {
      "text/html": [
       "<style type=\"text/css\">\n",
       "#T_e04a0_row0_col1 {\n",
       "  background-color: blue;\n",
       "}\n",
       "#T_e04a0_row7_col1 {\n",
       "  background-color: red;\n",
       "}\n",
       "</style>\n",
       "<table id=\"T_e04a0\">\n",
       "  <thead>\n",
       "    <tr>\n",
       "      <th class=\"index_name level0\" >arrival_date_year</th>\n",
       "      <th id=\"T_e04a0_level0_col0\" class=\"col_heading level0 col0\" >2015</th>\n",
       "      <th id=\"T_e04a0_level0_col1\" class=\"col_heading level0 col1\" >2016</th>\n",
       "      <th id=\"T_e04a0_level0_col2\" class=\"col_heading level0 col2\" >2017</th>\n",
       "    </tr>\n",
       "    <tr>\n",
       "      <th class=\"index_name level0\" >arrival_date_month</th>\n",
       "      <th class=\"blank col0\" >&nbsp;</th>\n",
       "      <th class=\"blank col1\" >&nbsp;</th>\n",
       "      <th class=\"blank col2\" >&nbsp;</th>\n",
       "    </tr>\n",
       "  </thead>\n",
       "  <tbody>\n",
       "    <tr>\n",
       "      <th id=\"T_e04a0_level0_row0\" class=\"row_heading level0 row0\" >January</th>\n",
       "      <td id=\"T_e04a0_row0_col0\" class=\"data row0 col0\" >0</td>\n",
       "      <td id=\"T_e04a0_row0_col1\" class=\"data row0 col1\" >3102</td>\n",
       "      <td id=\"T_e04a0_row0_col2\" class=\"data row0 col2\" >5220</td>\n",
       "    </tr>\n",
       "    <tr>\n",
       "      <th id=\"T_e04a0_level0_row1\" class=\"row_heading level0 row1\" >February</th>\n",
       "      <td id=\"T_e04a0_row1_col0\" class=\"data row1 col0\" >0</td>\n",
       "      <td id=\"T_e04a0_row1_col1\" class=\"data row1 col1\" >5042</td>\n",
       "      <td id=\"T_e04a0_row1_col2\" class=\"data row1 col2\" >6287</td>\n",
       "    </tr>\n",
       "    <tr>\n",
       "      <th id=\"T_e04a0_level0_row2\" class=\"row_heading level0 row2\" >March</th>\n",
       "      <td id=\"T_e04a0_row2_col0\" class=\"data row2 col0\" >0</td>\n",
       "      <td id=\"T_e04a0_row2_col1\" class=\"data row2 col1\" >7758</td>\n",
       "      <td id=\"T_e04a0_row2_col2\" class=\"data row2 col2\" >8511</td>\n",
       "    </tr>\n",
       "    <tr>\n",
       "      <th id=\"T_e04a0_level0_row3\" class=\"row_heading level0 row3\" >April</th>\n",
       "      <td id=\"T_e04a0_row3_col0\" class=\"data row3 col0\" >0</td>\n",
       "      <td id=\"T_e04a0_row3_col1\" class=\"data row3 col1\" >7599</td>\n",
       "      <td id=\"T_e04a0_row3_col2\" class=\"data row3 col2\" >7995</td>\n",
       "    </tr>\n",
       "    <tr>\n",
       "      <th id=\"T_e04a0_level0_row4\" class=\"row_heading level0 row4\" >May</th>\n",
       "      <td id=\"T_e04a0_row4_col0\" class=\"data row4 col0\" >0</td>\n",
       "      <td id=\"T_e04a0_row4_col1\" class=\"data row4 col1\" >8474</td>\n",
       "      <td id=\"T_e04a0_row4_col2\" class=\"data row4 col2\" >8768</td>\n",
       "    </tr>\n",
       "    <tr>\n",
       "      <th id=\"T_e04a0_level0_row5\" class=\"row_heading level0 row5\" >June</th>\n",
       "      <td id=\"T_e04a0_row5_col0\" class=\"data row5 col0\" >0</td>\n",
       "      <td id=\"T_e04a0_row5_col1\" class=\"data row5 col1\" >8358</td>\n",
       "      <td id=\"T_e04a0_row5_col2\" class=\"data row5 col2\" >8495</td>\n",
       "    </tr>\n",
       "    <tr>\n",
       "      <th id=\"T_e04a0_level0_row6\" class=\"row_heading level0 row6\" >July</th>\n",
       "      <td id=\"T_e04a0_row6_col0\" class=\"data row6 col0\" >4718</td>\n",
       "      <td id=\"T_e04a0_row6_col1\" class=\"data row6 col1\" >8508</td>\n",
       "      <td id=\"T_e04a0_row6_col2\" class=\"data row6 col2\" >8839</td>\n",
       "    </tr>\n",
       "    <tr>\n",
       "      <th id=\"T_e04a0_level0_row7\" class=\"row_heading level0 row7\" >August</th>\n",
       "      <td id=\"T_e04a0_row7_col0\" class=\"data row7 col0\" >6535</td>\n",
       "      <td id=\"T_e04a0_row7_col1\" class=\"data row7 col1\" >9052</td>\n",
       "      <td id=\"T_e04a0_row7_col2\" class=\"data row7 col2\" >8865</td>\n",
       "    </tr>\n",
       "    <tr>\n",
       "      <th id=\"T_e04a0_level0_row8\" class=\"row_heading level0 row8\" >September</th>\n",
       "      <td id=\"T_e04a0_row8_col0\" class=\"data row8 col0\" >8002</td>\n",
       "      <td id=\"T_e04a0_row8_col1\" class=\"data row8 col1\" >8648</td>\n",
       "      <td id=\"T_e04a0_row8_col2\" class=\"data row8 col2\" >0</td>\n",
       "    </tr>\n",
       "    <tr>\n",
       "      <th id=\"T_e04a0_level0_row9\" class=\"row_heading level0 row9\" >October</th>\n",
       "      <td id=\"T_e04a0_row9_col0\" class=\"data row9 col0\" >7316</td>\n",
       "      <td id=\"T_e04a0_row9_col1\" class=\"data row9 col1\" >8300</td>\n",
       "      <td id=\"T_e04a0_row9_col2\" class=\"data row9 col2\" >0</td>\n",
       "    </tr>\n",
       "    <tr>\n",
       "      <th id=\"T_e04a0_level0_row10\" class=\"row_heading level0 row10\" >November</th>\n",
       "      <td id=\"T_e04a0_row10_col0\" class=\"data row10 col0\" >4522</td>\n",
       "      <td id=\"T_e04a0_row10_col1\" class=\"data row10 col1\" >6552</td>\n",
       "      <td id=\"T_e04a0_row10_col2\" class=\"data row10 col2\" >0</td>\n",
       "    </tr>\n",
       "    <tr>\n",
       "      <th id=\"T_e04a0_level0_row11\" class=\"row_heading level0 row11\" >December</th>\n",
       "      <td id=\"T_e04a0_row11_col0\" class=\"data row11 col0\" >4129</td>\n",
       "      <td id=\"T_e04a0_row11_col1\" class=\"data row11 col1\" >5618</td>\n",
       "      <td id=\"T_e04a0_row11_col2\" class=\"data row11 col2\" >0</td>\n",
       "    </tr>\n",
       "  </tbody>\n",
       "</table>\n"
      ],
      "text/plain": [
       "<pandas.io.formats.style.Styler at 0x1c05681ac10>"
      ]
     },
     "execution_count": 18,
     "metadata": {},
     "output_type": "execute_result"
    }
   ],
   "source": [
    "# Estadias em dias de semana por mês - Todos os Anos\n",
    "\n",
    "group_stays2 = pd.DataFrame(df_not_canceled.groupby(\n",
    "    ['arrival_date_month', 'arrival_date_year'])['stays_in_week_nights'].sum().unstack())\n",
    "\n",
    "group_stays2.style.applymap(\n",
    "    lambda x: 'background-color: red' if x == group_stays2.values.max() else None).applymap(\n",
    "    lambda x: 'background-color: blue' if x == np.min(group_stays2.values[np.nonzero(group_stays2.values)]) else None)  "
   ]
  },
  {
   "cell_type": "code",
   "execution_count": 19,
   "id": "efe32d89",
   "metadata": {},
   "outputs": [
    {
     "data": {
      "text/plain": [
       "arrival_date_month\n",
       "August       9052\n",
       "September    8648\n",
       "July         8508\n",
       "May          8474\n",
       "June         8358\n",
       "October      8300\n",
       "March        7758\n",
       "April        7599\n",
       "November     6552\n",
       "December     5618\n",
       "February     5042\n",
       "January      3102\n",
       "Name: 2016, dtype: int64"
      ]
     },
     "execution_count": 19,
     "metadata": {},
     "output_type": "execute_result"
    }
   ],
   "source": [
    "## Estadias em dias de semana por mês - 2016\n",
    "\n",
    "group_stays2.iloc[:, 1].sort_values(ascending= False)"
   ]
  },
  {
   "cell_type": "code",
   "execution_count": 20,
   "id": "fc164ea0-7019-475c-b969-83600ff81dbf",
   "metadata": {},
   "outputs": [
    {
     "data": {
      "text/html": [
       "<style type=\"text/css\">\n",
       "#T_36d8a_row0_col1 {\n",
       "  background-color: blue;\n",
       "}\n",
       "#T_36d8a_row6_col2 {\n",
       "  background-color: red;\n",
       "}\n",
       "</style>\n",
       "<table id=\"T_36d8a\">\n",
       "  <thead>\n",
       "    <tr>\n",
       "      <th class=\"index_name level0\" >arrival_date_year</th>\n",
       "      <th id=\"T_36d8a_level0_col0\" class=\"col_heading level0 col0\" >2015</th>\n",
       "      <th id=\"T_36d8a_level0_col1\" class=\"col_heading level0 col1\" >2016</th>\n",
       "      <th id=\"T_36d8a_level0_col2\" class=\"col_heading level0 col2\" >2017</th>\n",
       "    </tr>\n",
       "    <tr>\n",
       "      <th class=\"index_name level0\" >arrival_date_month</th>\n",
       "      <th class=\"blank col0\" >&nbsp;</th>\n",
       "      <th class=\"blank col1\" >&nbsp;</th>\n",
       "      <th class=\"blank col2\" >&nbsp;</th>\n",
       "    </tr>\n",
       "  </thead>\n",
       "  <tbody>\n",
       "    <tr>\n",
       "      <th id=\"T_36d8a_level0_row0\" class=\"row_heading level0 row0\" >January</th>\n",
       "      <td id=\"T_36d8a_row0_col0\" class=\"data row0 col0\" >0</td>\n",
       "      <td id=\"T_36d8a_row0_col1\" class=\"data row0 col1\" >1133</td>\n",
       "      <td id=\"T_36d8a_row0_col2\" class=\"data row0 col2\" >1877</td>\n",
       "    </tr>\n",
       "    <tr>\n",
       "      <th id=\"T_36d8a_level0_row1\" class=\"row_heading level0 row1\" >February</th>\n",
       "      <td id=\"T_36d8a_row1_col0\" class=\"data row1 col0\" >0</td>\n",
       "      <td id=\"T_36d8a_row1_col1\" class=\"data row1 col1\" >2009</td>\n",
       "      <td id=\"T_36d8a_row1_col2\" class=\"data row1 col2\" >2450</td>\n",
       "    </tr>\n",
       "    <tr>\n",
       "      <th id=\"T_36d8a_level0_row2\" class=\"row_heading level0 row2\" >March</th>\n",
       "      <td id=\"T_36d8a_row2_col0\" class=\"data row2 col0\" >0</td>\n",
       "      <td id=\"T_36d8a_row2_col1\" class=\"data row2 col1\" >2522</td>\n",
       "      <td id=\"T_36d8a_row2_col2\" class=\"data row2 col2\" >3020</td>\n",
       "    </tr>\n",
       "    <tr>\n",
       "      <th id=\"T_36d8a_level0_row3\" class=\"row_heading level0 row3\" >April</th>\n",
       "      <td id=\"T_36d8a_row3_col0\" class=\"data row3 col0\" >0</td>\n",
       "      <td id=\"T_36d8a_row3_col1\" class=\"data row3 col1\" >2934</td>\n",
       "      <td id=\"T_36d8a_row3_col2\" class=\"data row3 col2\" >3267</td>\n",
       "    </tr>\n",
       "    <tr>\n",
       "      <th id=\"T_36d8a_level0_row4\" class=\"row_heading level0 row4\" >May</th>\n",
       "      <td id=\"T_36d8a_row4_col0\" class=\"data row4 col0\" >0</td>\n",
       "      <td id=\"T_36d8a_row4_col1\" class=\"data row4 col1\" >3173</td>\n",
       "      <td id=\"T_36d8a_row4_col2\" class=\"data row4 col2\" >3201</td>\n",
       "    </tr>\n",
       "    <tr>\n",
       "      <th id=\"T_36d8a_level0_row5\" class=\"row_heading level0 row5\" >June</th>\n",
       "      <td id=\"T_36d8a_row5_col0\" class=\"data row5 col0\" >0</td>\n",
       "      <td id=\"T_36d8a_row5_col1\" class=\"data row5 col1\" >3049</td>\n",
       "      <td id=\"T_36d8a_row5_col2\" class=\"data row5 col2\" >3244</td>\n",
       "    </tr>\n",
       "    <tr>\n",
       "      <th id=\"T_36d8a_level0_row6\" class=\"row_heading level0 row6\" >July</th>\n",
       "      <td id=\"T_36d8a_row6_col0\" class=\"data row6 col0\" >1757</td>\n",
       "      <td id=\"T_36d8a_row6_col1\" class=\"data row6 col1\" >3460</td>\n",
       "      <td id=\"T_36d8a_row6_col2\" class=\"data row6 col2\" >3630</td>\n",
       "    </tr>\n",
       "    <tr>\n",
       "      <th id=\"T_36d8a_level0_row7\" class=\"row_heading level0 row7\" >August</th>\n",
       "      <td id=\"T_36d8a_row7_col0\" class=\"data row7 col0\" >2622</td>\n",
       "      <td id=\"T_36d8a_row7_col1\" class=\"data row7 col1\" >3445</td>\n",
       "      <td id=\"T_36d8a_row7_col2\" class=\"data row7 col2\" >3270</td>\n",
       "    </tr>\n",
       "    <tr>\n",
       "      <th id=\"T_36d8a_level0_row8\" class=\"row_heading level0 row8\" >September</th>\n",
       "      <td id=\"T_36d8a_row8_col0\" class=\"data row8 col0\" >3043</td>\n",
       "      <td id=\"T_36d8a_row8_col1\" class=\"data row8 col1\" >3265</td>\n",
       "      <td id=\"T_36d8a_row8_col2\" class=\"data row8 col2\" >0</td>\n",
       "    </tr>\n",
       "    <tr>\n",
       "      <th id=\"T_36d8a_level0_row9\" class=\"row_heading level0 row9\" >October</th>\n",
       "      <td id=\"T_36d8a_row9_col0\" class=\"data row9 col0\" >2722</td>\n",
       "      <td id=\"T_36d8a_row9_col1\" class=\"data row9 col1\" >3496</td>\n",
       "      <td id=\"T_36d8a_row9_col2\" class=\"data row9 col2\" >0</td>\n",
       "    </tr>\n",
       "    <tr>\n",
       "      <th id=\"T_36d8a_level0_row10\" class=\"row_heading level0 row10\" >November</th>\n",
       "      <td id=\"T_36d8a_row10_col0\" class=\"data row10 col0\" >1356</td>\n",
       "      <td id=\"T_36d8a_row10_col1\" class=\"data row10 col1\" >2305</td>\n",
       "      <td id=\"T_36d8a_row10_col2\" class=\"data row10 col2\" >0</td>\n",
       "    </tr>\n",
       "    <tr>\n",
       "      <th id=\"T_36d8a_level0_row11\" class=\"row_heading level0 row11\" >December</th>\n",
       "      <td id=\"T_36d8a_row11_col0\" class=\"data row11 col0\" >1581</td>\n",
       "      <td id=\"T_36d8a_row11_col1\" class=\"data row11 col1\" >1996</td>\n",
       "      <td id=\"T_36d8a_row11_col2\" class=\"data row11 col2\" >0</td>\n",
       "    </tr>\n",
       "  </tbody>\n",
       "</table>\n"
      ],
      "text/plain": [
       "<pandas.io.formats.style.Styler at 0x1c05684a280>"
      ]
     },
     "execution_count": 20,
     "metadata": {},
     "output_type": "execute_result"
    }
   ],
   "source": [
    "# Estadias aos finais de semana por mês - Todos os Anos\n",
    "\n",
    "group_stays2 = pd.DataFrame(df_not_canceled.groupby(\n",
    "    ['arrival_date_month', 'arrival_date_year'])['stays_in_weekend_nights'].sum().unstack())\n",
    "\n",
    "group_stays2.style.applymap(\n",
    "    lambda x: 'background-color: red' if x == group_stays2.values.max() else None).applymap(\n",
    "    lambda x: 'background-color: blue' if x == np.min(group_stays2.values[np.nonzero(group_stays2.values)]) else None)  "
   ]
  },
  {
   "cell_type": "code",
   "execution_count": 21,
   "id": "4fea7537",
   "metadata": {
    "scrolled": true
   },
   "outputs": [
    {
     "data": {
      "text/plain": [
       "arrival_date_month\n",
       "October      3496\n",
       "July         3460\n",
       "August       3445\n",
       "September    3265\n",
       "May          3173\n",
       "June         3049\n",
       "April        2934\n",
       "March        2522\n",
       "November     2305\n",
       "February     2009\n",
       "December     1996\n",
       "January      1133\n",
       "Name: 2016, dtype: int64"
      ]
     },
     "execution_count": 21,
     "metadata": {},
     "output_type": "execute_result"
    }
   ],
   "source": [
    "# Estadias aos finais de semana por mês - 2016\n",
    "\n",
    "group_stays2.iloc[:, 1].sort_values(ascending= False)"
   ]
  },
  {
   "cell_type": "markdown",
   "id": "6022712d-75a7-45cd-972f-abb6467c8f31",
   "metadata": {},
   "source": [
    "- Analisando o ano de 2016 onde se tem computado os dados do ano inteiro: Percebe-se que os meses onde se programou passar mais estadias (**entre Junho e Agosto**) ocorrem no período de **férias** escolares/universitárias e também do **verão**. Essa pode ser uma correlação verdadeira. Em contrapartida, visto que no final do ano e início do ano seguinte se tem o **outono/inverno**, esse pode ter sido o motivo que justificou as **menores** quantidades de **estadias entre Novembro e Fevereiro**, além de não ser um período comum de férias. Importante frisar que correlação não implica em causalidade. Portanto a possibilidade levantada é mera hipótese.\n",
    "\n",
    "- Analisando todos os meses: O mês onde se programou mais estadias durante a semana foi **Agosto de 2016** (9052) e nos fins de semana foi **Julho de  2017** (3630). O mês onde se programou menos estadias durante a semana e aos fins de semana foi **Janeiro de 2016**. Observando as tabelas, percebe-se que a teoria levantada no tópico anterior também se replica na análise geral dos meses.\n",
    "\n",
    "- Interessante observar que o mês onde chegou mais hóspedes (Outubro de 2016, conforme análise prévia) não é o mês que tem mais estadias (Agosto de 2016) se considerarmos apenas esse ano."
   ]
  },
  {
   "cell_type": "markdown",
   "id": "c1a22a5d-620b-4fb2-83ce-03d6729d88d7",
   "metadata": {},
   "source": [
    "### Análise - Composição dos Hóspedes"
   ]
  },
  {
   "cell_type": "code",
   "execution_count": 22,
   "id": "1c370d37-43f9-44c9-bdc2-c9ce142b1a10",
   "metadata": {},
   "outputs": [
    {
     "data": {
      "image/png": "[encoded data removed]",
      "text/plain": [
       "<Figure size 1000x600 with 1 Axes>"
      ]
     },
     "metadata": {},
     "output_type": "display_data"
    }
   ],
   "source": [
    "df_country_not_canceled = pd.DataFrame(df_not_canceled['country'].value_counts(dropna=False)[0:10]).reset_index(drop=False)\n",
    "df_country_not_canceled.columns = ['Country', 'Bookings']\n",
    "labels = df_country_not_canceled['Country'].replace({'PRT':'Portugal', 'GBR':'Reino Unido', 'FRA':'França',\n",
    "                                     'ESP':'Espanha', 'DEU':'Alemanha', 'ITA':'Itália',\n",
    "                                     'IRL':'Irlanda', 'BEL':'Bélgica', 'USA':'Estados Unidos', \n",
    "                                     'NLD':'Holanda'})\n",
    "\n",
    "sns.set_theme(style='whitegrid', font='verdana', font_scale = 1.2)\n",
    "plt.figure(figsize=(10, 6))\n",
    "\n",
    "ax = sns.barplot(y= df_country_not_canceled['Country'], x= df_country_not_canceled['Bookings'])\n",
    "ax.set_title('Nacionalidade dos Hóspedes com maior frequência nos Hósteis', pad= 15, fontweight= 'bold')\n",
    "ax.set_ylabel('')\n",
    "ax.set_xlabel('Hospedagens', labelpad= 12, fontsize= 12)\n",
    "ax.set_yticklabels(labels)\n",
    "ax.set_xticks(np.arange(0, 22500, 1500))\n",
    "ax.set_xticklabels(np.arange(0, 22500, 1500), fontsize= 9)\n",
    "ax.spines[['top', 'left', 'right', 'bottom']].set_visible(False)\n",
    "\n",
    "plt.tight_layout()"
   ]
  },
  {
   "cell_type": "code",
   "execution_count": 23,
   "id": "e65b8a54-c384-47e9-95e1-5de99ea45af5",
   "metadata": {},
   "outputs": [
    {
     "data": {
      "image/png": "[encoded data removed]",
      "text/plain": [
       "<Figure size 1000x600 with 1 Axes>"
      ]
     },
     "metadata": {},
     "output_type": "display_data"
    }
   ],
   "source": [
    "countries = df['country'].value_counts()[0:10].index\n",
    "df_country_cancellations = pd.DataFrame(df[df['country'].isin(countries)].groupby('country')['is_canceled']\\\n",
    "                                        .mean().mul(100).round(2).sort_values(ascending= False)).reset_index()\n",
    "\n",
    "df_country_cancellations.columns = ['Country', 'Cancellation Rate (%)']\n",
    "labels_2 = df_country_cancellations['Country'].replace({'PRT':'Portugal', 'GBR':'Reino Unido', 'FRA':'França',\n",
    "                                     'ESP':'Espanha', 'DEU':'Alemanha', 'ITA':'Itália',\n",
    "                                     'IRL':'Irlanda', 'BEL':'Bélgica', 'BRA':'Brasil', \n",
    "                                     'NLD':'Holanda'})\n",
    "\n",
    "sns.set_theme(style='whitegrid', font='verdana', font_scale = 1.2)\n",
    "plt.figure(figsize=(10, 6))\n",
    "\n",
    "ax = sns.barplot(y= df_country_cancellations['Country'], x= df_country_cancellations['Cancellation Rate (%)'])\n",
    "ax.set_title('Maiores Taxas de Cancelamento por País', pad= 15, fontweight= 'bold', fontsize= 14)\n",
    "ax.set_ylabel('')\n",
    "ax.set_yticklabels(labels_2)\n",
    "ax.set_xlabel('Taxa de Cancelamento (%)', labelpad= 12, fontsize= 12)\n",
    "ax.set_xticks(np.arange(0, 65, 5))\n",
    "ax.set_xticklabels(np.arange(0, 65, 5), fontsize= 11)\n",
    "ax.spines[['top', 'left', 'right', 'bottom']].set_visible(False)\n",
    "\n",
    "plt.tight_layout()"
   ]
  },
  {
   "cell_type": "code",
   "execution_count": 24,
   "id": "c58e4493-b806-4888-a28a-e9357e080f9d",
   "metadata": {
    "scrolled": true
   },
   "outputs": [
    {
     "data": {
      "text/html": [
       "<div>\n",
       "<style scoped>\n",
       "    .dataframe tbody tr th:only-of-type {\n",
       "        vertical-align: middle;\n",
       "    }\n",
       "\n",
       "    .dataframe tbody tr th {\n",
       "        vertical-align: top;\n",
       "    }\n",
       "\n",
       "    .dataframe thead th {\n",
       "        text-align: right;\n",
       "    }\n",
       "</style>\n",
       "<table border=\"1\" class=\"dataframe\">\n",
       "  <thead>\n",
       "    <tr style=\"text-align: right;\">\n",
       "      <th></th>\n",
       "      <th>hotel</th>\n",
       "      <th>adults</th>\n",
       "      <th>children</th>\n",
       "      <th>babies</th>\n",
       "    </tr>\n",
       "  </thead>\n",
       "  <tbody>\n",
       "    <tr>\n",
       "      <th>0</th>\n",
       "      <td>City Hotel</td>\n",
       "      <td>84510</td>\n",
       "      <td>4618.0</td>\n",
       "      <td>328</td>\n",
       "    </tr>\n",
       "    <tr>\n",
       "      <th>1</th>\n",
       "      <td>Resort Hotel</td>\n",
       "      <td>53024</td>\n",
       "      <td>3075.0</td>\n",
       "      <td>452</td>\n",
       "    </tr>\n",
       "  </tbody>\n",
       "</table>\n",
       "</div>"
      ],
      "text/plain": [
       "          hotel  adults  children  babies\n",
       "0    City Hotel   84510    4618.0     328\n",
       "1  Resort Hotel   53024    3075.0     452"
      ]
     },
     "execution_count": 24,
     "metadata": {},
     "output_type": "execute_result"
    }
   ],
   "source": [
    "group_composition = pd.DataFrame(df_not_canceled.groupby(['hotel'])[['adults', 'children', 'babies']].sum().reset_index())\n",
    "group_composition\n",
    "\n",
    "## Verificar a proporção de famílias com criança no Resort e no City"
   ]
  },
  {
   "cell_type": "code",
   "execution_count": 38,
   "id": "ce18eb26",
   "metadata": {
    "scrolled": true
   },
   "outputs": [
    {
     "data": {
      "text/html": [
       "<div>\n",
       "<style scoped>\n",
       "    .dataframe tbody tr th:only-of-type {\n",
       "        vertical-align: middle;\n",
       "    }\n",
       "\n",
       "    .dataframe tbody tr th {\n",
       "        vertical-align: top;\n",
       "    }\n",
       "\n",
       "    .dataframe thead th {\n",
       "        text-align: right;\n",
       "    }\n",
       "</style>\n",
       "<table border=\"1\" class=\"dataframe\">\n",
       "  <thead>\n",
       "    <tr style=\"text-align: right;\">\n",
       "      <th></th>\n",
       "      <th>Taxa de Cancelamento (%)</th>\n",
       "      <th>Quantidade Total (%)</th>\n",
       "    </tr>\n",
       "    <tr>\n",
       "      <th>children</th>\n",
       "      <th></th>\n",
       "      <th></th>\n",
       "    </tr>\n",
       "  </thead>\n",
       "  <tbody>\n",
       "    <tr>\n",
       "      <th>10.0</th>\n",
       "      <td>100.00</td>\n",
       "      <td>0.001</td>\n",
       "    </tr>\n",
       "    <tr>\n",
       "      <th>2.0</th>\n",
       "      <td>42.20</td>\n",
       "      <td>3.059</td>\n",
       "    </tr>\n",
       "    <tr>\n",
       "      <th>0.0</th>\n",
       "      <td>37.09</td>\n",
       "      <td>92.802</td>\n",
       "    </tr>\n",
       "    <tr>\n",
       "      <th>1.0</th>\n",
       "      <td>32.24</td>\n",
       "      <td>4.072</td>\n",
       "    </tr>\n",
       "    <tr>\n",
       "      <th>3.0</th>\n",
       "      <td>22.37</td>\n",
       "      <td>0.064</td>\n",
       "    </tr>\n",
       "  </tbody>\n",
       "</table>\n",
       "</div>"
      ],
      "text/plain": [
       "          Taxa de Cancelamento (%)  Quantidade Total (%)\n",
       "children                                                \n",
       "10.0                        100.00                 0.001\n",
       "2.0                          42.20                 3.059\n",
       "0.0                          37.09                92.802\n",
       "1.0                          32.24                 4.072\n",
       "3.0                          22.37                 0.064"
      ]
     },
     "execution_count": 38,
     "metadata": {},
     "output_type": "execute_result"
    }
   ],
   "source": [
    "children_frame = pd.DataFrame(df.groupby('children')['is_canceled'].mean().mul(100).round(2))\n",
    "children_frame['Quantidade Total (%)'] = df['children'].value_counts(dropna= False, normalize= True).mul(100).round(3)\n",
    "children_frame.columns = ['Taxa de Cancelamento (%)', 'Quantidade Total (%)']\n",
    "children_frame.sort_values('Taxa de Cancelamento (%)', ascending= False)"
   ]
  },
  {
   "cell_type": "code",
   "execution_count": 40,
   "id": "7c3b14db",
   "metadata": {
    "scrolled": false
   },
   "outputs": [
    {
     "data": {
      "text/html": [
       "<div>\n",
       "<style scoped>\n",
       "    .dataframe tbody tr th:only-of-type {\n",
       "        vertical-align: middle;\n",
       "    }\n",
       "\n",
       "    .dataframe tbody tr th {\n",
       "        vertical-align: top;\n",
       "    }\n",
       "\n",
       "    .dataframe thead th {\n",
       "        text-align: right;\n",
       "    }\n",
       "</style>\n",
       "<table border=\"1\" class=\"dataframe\">\n",
       "  <thead>\n",
       "    <tr style=\"text-align: right;\">\n",
       "      <th></th>\n",
       "      <th>Taxa de Cancelamento (%)</th>\n",
       "      <th>Quantidade Total (%)</th>\n",
       "    </tr>\n",
       "    <tr>\n",
       "      <th>adults</th>\n",
       "      <th></th>\n",
       "      <th></th>\n",
       "    </tr>\n",
       "  </thead>\n",
       "  <tbody>\n",
       "    <tr>\n",
       "      <th>5</th>\n",
       "      <td>100.00</td>\n",
       "      <td>0.002</td>\n",
       "    </tr>\n",
       "    <tr>\n",
       "      <th>6</th>\n",
       "      <td>100.00</td>\n",
       "      <td>0.001</td>\n",
       "    </tr>\n",
       "    <tr>\n",
       "      <th>10</th>\n",
       "      <td>100.00</td>\n",
       "      <td>0.001</td>\n",
       "    </tr>\n",
       "    <tr>\n",
       "      <th>20</th>\n",
       "      <td>100.00</td>\n",
       "      <td>0.002</td>\n",
       "    </tr>\n",
       "    <tr>\n",
       "      <th>26</th>\n",
       "      <td>100.00</td>\n",
       "      <td>0.004</td>\n",
       "    </tr>\n",
       "    <tr>\n",
       "      <th>27</th>\n",
       "      <td>100.00</td>\n",
       "      <td>0.002</td>\n",
       "    </tr>\n",
       "    <tr>\n",
       "      <th>40</th>\n",
       "      <td>100.00</td>\n",
       "      <td>0.001</td>\n",
       "    </tr>\n",
       "    <tr>\n",
       "      <th>50</th>\n",
       "      <td>100.00</td>\n",
       "      <td>0.001</td>\n",
       "    </tr>\n",
       "    <tr>\n",
       "      <th>55</th>\n",
       "      <td>100.00</td>\n",
       "      <td>0.001</td>\n",
       "    </tr>\n",
       "    <tr>\n",
       "      <th>2</th>\n",
       "      <td>39.32</td>\n",
       "      <td>75.115</td>\n",
       "    </tr>\n",
       "    <tr>\n",
       "      <th>3</th>\n",
       "      <td>34.68</td>\n",
       "      <td>5.195</td>\n",
       "    </tr>\n",
       "    <tr>\n",
       "      <th>1</th>\n",
       "      <td>28.98</td>\n",
       "      <td>19.287</td>\n",
       "    </tr>\n",
       "    <tr>\n",
       "      <th>0</th>\n",
       "      <td>27.05</td>\n",
       "      <td>0.338</td>\n",
       "    </tr>\n",
       "    <tr>\n",
       "      <th>4</th>\n",
       "      <td>25.81</td>\n",
       "      <td>0.052</td>\n",
       "    </tr>\n",
       "  </tbody>\n",
       "</table>\n",
       "</div>"
      ],
      "text/plain": [
       "        Taxa de Cancelamento (%)  Quantidade Total (%)\n",
       "adults                                                \n",
       "5                         100.00                 0.002\n",
       "6                         100.00                 0.001\n",
       "10                        100.00                 0.001\n",
       "20                        100.00                 0.002\n",
       "26                        100.00                 0.004\n",
       "27                        100.00                 0.002\n",
       "40                        100.00                 0.001\n",
       "50                        100.00                 0.001\n",
       "55                        100.00                 0.001\n",
       "2                          39.32                75.115\n",
       "3                          34.68                 5.195\n",
       "1                          28.98                19.287\n",
       "0                          27.05                 0.338\n",
       "4                          25.81                 0.052"
      ]
     },
     "execution_count": 40,
     "metadata": {},
     "output_type": "execute_result"
    }
   ],
   "source": [
    "adults_frame = pd.DataFrame(df.groupby('adults')['is_canceled'].mean().mul(100).round(2))\n",
    "adults_frame['Quantidade Total (%)'] = df['adults'].value_counts(dropna= False, normalize= True).mul(100).round(3)\n",
    "adults_frame.columns = ['Taxa de Cancelamento (%)', 'Quantidade Total (%)']\n",
    "adults_frame.sort_values('Taxa de Cancelamento (%)', ascending= False)"
   ]
  },
  {
   "cell_type": "code",
   "execution_count": 25,
   "id": "c6329f8c-6fde-4109-9da5-a22e55bd4e94",
   "metadata": {
    "scrolled": true
   },
   "outputs": [
    {
     "data": {
      "text/plain": [
       "0    5.5\n",
       "1    6.2\n",
       "dtype: float64"
      ]
     },
     "execution_count": 25,
     "metadata": {},
     "output_type": "execute_result"
    }
   ],
   "source": [
    "#Proporção de crianças e bebês\n",
    "\n",
    "((group_composition.drop(columns= ['hotel', 'adults']).apply(lambda x: sum(x), axis= 1) / \n",
    " group_composition.drop(columns= 'hotel').apply(lambda x: sum(x), axis= 1)).round(3))*100"
   ]
  },
  {
   "cell_type": "code",
   "execution_count": 33,
   "id": "a0e66bea",
   "metadata": {
    "scrolled": true
   },
   "outputs": [
    {
     "data": {
      "text/html": [
       "<div>\n",
       "<style scoped>\n",
       "    .dataframe tbody tr th:only-of-type {\n",
       "        vertical-align: middle;\n",
       "    }\n",
       "\n",
       "    .dataframe tbody tr th {\n",
       "        vertical-align: top;\n",
       "    }\n",
       "\n",
       "    .dataframe thead th {\n",
       "        text-align: right;\n",
       "    }\n",
       "</style>\n",
       "<table border=\"1\" class=\"dataframe\">\n",
       "  <thead>\n",
       "    <tr style=\"text-align: right;\">\n",
       "      <th></th>\n",
       "      <th>Taxa de Cancelamento (%)</th>\n",
       "      <th>Quantidade Total (%)</th>\n",
       "    </tr>\n",
       "    <tr>\n",
       "      <th>meal</th>\n",
       "      <th></th>\n",
       "      <th></th>\n",
       "    </tr>\n",
       "  </thead>\n",
       "  <tbody>\n",
       "    <tr>\n",
       "      <th>FB</th>\n",
       "      <td>59.90</td>\n",
       "      <td>0.67</td>\n",
       "    </tr>\n",
       "    <tr>\n",
       "      <th>BB</th>\n",
       "      <td>37.38</td>\n",
       "      <td>77.32</td>\n",
       "    </tr>\n",
       "    <tr>\n",
       "      <th>SC</th>\n",
       "      <td>37.24</td>\n",
       "      <td>8.92</td>\n",
       "    </tr>\n",
       "    <tr>\n",
       "      <th>HB</th>\n",
       "      <td>34.46</td>\n",
       "      <td>12.11</td>\n",
       "    </tr>\n",
       "    <tr>\n",
       "      <th>Undefined</th>\n",
       "      <td>24.47</td>\n",
       "      <td>0.98</td>\n",
       "    </tr>\n",
       "  </tbody>\n",
       "</table>\n",
       "</div>"
      ],
      "text/plain": [
       "           Taxa de Cancelamento (%)  Quantidade Total (%)\n",
       "meal                                                     \n",
       "FB                            59.90                  0.67\n",
       "BB                            37.38                 77.32\n",
       "SC                            37.24                  8.92\n",
       "HB                            34.46                 12.11\n",
       "Undefined                     24.47                  0.98"
      ]
     },
     "execution_count": 33,
     "metadata": {},
     "output_type": "execute_result"
    }
   ],
   "source": [
    "meal_frame = pd.DataFrame(df.groupby('meal')['is_canceled'].mean().mul(100).round(2))\n",
    "meal_frame['Quantidade Total (%)'] = df['meal'].value_counts(dropna= False, normalize= True).mul(100).round(2)\n",
    "meal_frame.columns = ['Taxa de Cancelamento (%)', 'Quantidade Total (%)']\n",
    "meal_frame.sort_values('Taxa de Cancelamento (%)', ascending= False)"
   ]
  },
  {
   "cell_type": "code",
   "execution_count": 27,
   "id": "89827cb4",
   "metadata": {
    "scrolled": true
   },
   "outputs": [
    {
     "data": {
      "text/plain": [
       "Transient          70.64\n",
       "Transient-Party    24.92\n",
       "Contract            3.74\n",
       "Group               0.69\n",
       "Name: customer_type, dtype: float64"
      ]
     },
     "execution_count": 27,
     "metadata": {},
     "output_type": "execute_result"
    }
   ],
   "source": [
    "df_not_canceled['customer_type'].value_counts(normalize= True).mul(100).round(2)"
   ]
  },
  {
   "cell_type": "code",
   "execution_count": 28,
   "id": "a73107fc",
   "metadata": {},
   "outputs": [
    {
     "data": {
      "image/png": "[encoded data removed]",
      "text/plain": [
       "<Figure size 700x500 with 1 Axes>"
      ]
     },
     "metadata": {},
     "output_type": "display_data"
    }
   ],
   "source": [
    "customertype_cancellations = pd.DataFrame(df.groupby('customer_type')['is_canceled'].mean().mul(100).round(2)).reset_index()\n",
    "customertype_cancellations.rename(columns= {'is_canceled':'Taxa de Cancelamento (%)', \n",
    "                                            'customer_type':'Tipo de Reserva'}, inplace= True)\n",
    "\n",
    "sns.set_theme(style='whitegrid', font='verdana', font_scale = 1.2)\n",
    "plt.figure(figsize=(7, 5))\n",
    "\n",
    "ax = sns.barplot(x= customertype_cancellations['Tipo de Reserva'], y= customertype_cancellations['Taxa de Cancelamento (%)'])\n",
    "ax.spines[['top', 'right', 'bottom', 'left']].set_visible(False)\n",
    "ax.set_title('Taxas de Cancelamento por Tipo de Reserva (%)', pad= 15, fontweight= 'bold', fontsize= 14)\n",
    "ax.set_xlabel('')\n",
    "ax.set_ylabel('')\n",
    "ax.spines[['top', 'left', 'right', 'bottom']].set_visible(False)\n",
    "\n",
    "plt.tight_layout()"
   ]
  },
  {
   "cell_type": "markdown",
   "id": "f0777a0f-5f6d-46d7-a314-b51307577599",
   "metadata": {},
   "source": [
    "- A grande maioria dos hóspedes que chegaram no hotel são da Europa e, em sua imensa maioria, de **Portugal**.\n",
    "\n",
    "- Dentre os países que mais efetuaram cancelamentos, apenas o Brasil não figura também como um dos países que tiveram mais hóspedes no hotel. Apesar de Portugal ser o país que mais realiza cancelamentos, a quantidade de clientes é tão grande que ainda assim esse país é o que mais abriga hóspedes nos hotéis em questão.\n",
    "\n",
    "- A **maioria dos reservas** são classificadas como **transientes**.\n",
    "\n",
    "- Olhando para os tipos de reservas, percebe-se que a **maioria das que cancelam** são **transientes** (40,75%), seguidas pelas reservas por **contrato** (30,96%).\n",
    "\n",
    "- Do total de pessoas que frequentaram o **City Hotel**, **5,5%** são crianças/bebês.\n",
    "\n",
    "- Do total de pessoas que frequentaram o **Resort Hotel**, **6.2%** são crianças/bebês.\n",
    "\n",
    "- Percebe-se que a diferença não é muito significativa. Portanto, existe a possibilidade de não haver uma predileção específica em levar crianças/bebês para um tipo de hotel específico.\n",
    "\n",
    "- Tanto no caso do número de **adultos** como no caso do número de **crianças**, quanto **maior o número de pessoas** que compõem o grupo da reserva, **provavelmente** há uma **maior tendência** para que essa **reserva** seja **cancelada**. \n",
    "\n",
    "- A refeição que inclui café da manhã, almoço e jantar (FB - Full Board), que teoricamente deveria ser a mais lucrativa para os hotéis, é a que está presente em menor quantidade (valor praticamente irrisório, 0,67%) e também é a que possui a maior taxa de cancelamento (59,9%). Um ponto de atenção. No que tange aos demais tipos, as taxas de cancelamento estão muito parecidas. "
   ]
  },
  {
   "cell_type": "code",
   "execution_count": null,
   "id": "13054e93",
   "metadata": {},
   "outputs": [],
   "source": []
  }
 ],
 "metadata": {
  "kernelspec": {
   "display_name": "base",
   "language": "python",
   "name": "python3"
  },
  "language_info": {
   "codemirror_mode": {
    "name": "ipython",
    "version": 3
   },
   "file_extension": ".py",
   "mimetype": "text/x-python",
   "name": "python",
   "nbconvert_exporter": "python",
   "pygments_lexer": "ipython3",
   "version": "3.9.13 (main, Aug 25 2022, 23:51:50) [MSC v.1916 64 bit (AMD64)]"
  },
  "toc-autonumbering": false,
  "toc-showcode": false,
  "toc-showmarkdowntxt": false,
  "toc-showtags": false,
  "vscode": {
   "interpreter": {
    "hash": "7ce700165e2c4b10bae7603f1c1106a887b66d17bed302f9db11fdd8a44210c1"
   }
  }
 },
 "nbformat": 4,
 "nbformat_minor": 5
}
